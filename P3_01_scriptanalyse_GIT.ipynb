{
 "cells": [
  {
   "cell_type": "markdown",
   "metadata": {},
   "source": [
    "# Projet_P3 : Réalisez une étude de santé publique"
   ]
  },
  {
   "cell_type": "code",
   "execution_count": 1,
   "metadata": {
    "ExecuteTime": {
     "end_time": "2021-10-04T09:14:31.446057Z",
     "start_time": "2021-10-04T09:14:28.307285Z"
    },
    "id": "dpp7upmRydZQ"
   },
   "outputs": [],
   "source": [
    "import numpy as np\n",
    "import pandas as pd\n",
    "import matplotlib.pyplot as plt\n",
    "import math\n",
    "import csv"
   ]
  },
  {
   "cell_type": "code",
   "execution_count": 2,
   "metadata": {
    "ExecuteTime": {
     "end_time": "2021-10-04T09:14:31.493930Z",
     "start_time": "2021-10-04T09:14:31.448053Z"
    }
   },
   "outputs": [],
   "source": [
    "#on charge le dataset de données\n",
    "url = 'INPUTS_FORMATION/fr_population.csv'\n",
    "data = pd.read_csv(url, sep=',',encoding='utf-8')\n",
    "df = data.copy()\n",
    "df0pop = data.copy()"
   ]
  },
  {
   "cell_type": "markdown",
   "metadata": {},
   "source": [
    "### Question 1 : donnez le résultat de votre calcul de population mondiale pour l'année 2013."
   ]
  },
  {
   "cell_type": "markdown",
   "metadata": {},
   "source": [
    "###### Calcul préliminaire"
   ]
  },
  {
   "cell_type": "code",
   "execution_count": 3,
   "metadata": {
    "ExecuteTime": {
     "end_time": "2021-10-04T09:14:31.525846Z",
     "start_time": "2021-10-04T09:14:31.495926Z"
    }
   },
   "outputs": [
    {
     "name": "stdout",
     "output_type": "stream",
     "text": [
      "\u001b[6;31;40mPopulation Mondiale en 2013 : 8413993000 hbts\u001b[0m\n"
     ]
    }
   ],
   "source": [
    "#on somme [Valeur]\n",
    "print('\\x1b[6;31;40m' + 'Population Mondiale en 2013 : '+str(df['Valeur'].sum()*1000)+' hbts' + '\\x1b[0m')"
   ]
  },
  {
   "cell_type": "markdown",
   "metadata": {},
   "source": [
    "###### Investigations : Zones où la population est supérieure à 1 milliard"
   ]
  },
  {
   "cell_type": "code",
   "execution_count": 4,
   "metadata": {
    "ExecuteTime": {
     "end_time": "2021-10-04T09:14:31.605632Z",
     "start_time": "2021-10-04T09:14:31.529835Z"
    }
   },
   "outputs": [
    {
     "data": {
      "text/html": [
       "<div>\n",
       "<style scoped>\n",
       "    .dataframe tbody tr th:only-of-type {\n",
       "        vertical-align: middle;\n",
       "    }\n",
       "\n",
       "    .dataframe tbody tr th {\n",
       "        vertical-align: top;\n",
       "    }\n",
       "\n",
       "    .dataframe thead th {\n",
       "        text-align: right;\n",
       "    }\n",
       "</style>\n",
       "<table border=\"1\" class=\"dataframe\">\n",
       "  <thead>\n",
       "    <tr style=\"text-align: right;\">\n",
       "      <th></th>\n",
       "      <th>Code Domaine</th>\n",
       "      <th>Domaine</th>\n",
       "      <th>Code zone</th>\n",
       "      <th>Zone</th>\n",
       "      <th>Code Élément</th>\n",
       "      <th>Élément</th>\n",
       "      <th>Code Produit</th>\n",
       "      <th>Produit</th>\n",
       "      <th>Code année</th>\n",
       "      <th>Année</th>\n",
       "      <th>Unité</th>\n",
       "      <th>Valeur</th>\n",
       "      <th>Symbole</th>\n",
       "      <th>Description du Symbole</th>\n",
       "    </tr>\n",
       "  </thead>\n",
       "  <tbody>\n",
       "    <tr>\n",
       "      <th>33</th>\n",
       "      <td>FBSH</td>\n",
       "      <td>Bilans Alimentaire (Ancienne méthodologie et p...</td>\n",
       "      <td>351</td>\n",
       "      <td>Chine</td>\n",
       "      <td>511</td>\n",
       "      <td>Population totale</td>\n",
       "      <td>2501</td>\n",
       "      <td>Population</td>\n",
       "      <td>2013</td>\n",
       "      <td>2013</td>\n",
       "      <td>1000 personnes</td>\n",
       "      <td>1416667</td>\n",
       "      <td>A</td>\n",
       "      <td>Agrégat, peut inclure des données officielles,...</td>\n",
       "    </tr>\n",
       "    <tr>\n",
       "      <th>36</th>\n",
       "      <td>FBSH</td>\n",
       "      <td>Bilans Alimentaire (Ancienne méthodologie et p...</td>\n",
       "      <td>41</td>\n",
       "      <td>Chine, continentale</td>\n",
       "      <td>511</td>\n",
       "      <td>Population totale</td>\n",
       "      <td>2501</td>\n",
       "      <td>Population</td>\n",
       "      <td>2013</td>\n",
       "      <td>2013</td>\n",
       "      <td>1000 personnes</td>\n",
       "      <td>1385567</td>\n",
       "      <td>NaN</td>\n",
       "      <td>Donnée officielle</td>\n",
       "    </tr>\n",
       "    <tr>\n",
       "      <th>75</th>\n",
       "      <td>FBSH</td>\n",
       "      <td>Bilans Alimentaire (Ancienne méthodologie et p...</td>\n",
       "      <td>100</td>\n",
       "      <td>Inde</td>\n",
       "      <td>511</td>\n",
       "      <td>Population totale</td>\n",
       "      <td>2501</td>\n",
       "      <td>Population</td>\n",
       "      <td>2013</td>\n",
       "      <td>2013</td>\n",
       "      <td>1000 personnes</td>\n",
       "      <td>1252140</td>\n",
       "      <td>NaN</td>\n",
       "      <td>Donnée officielle</td>\n",
       "    </tr>\n",
       "  </tbody>\n",
       "</table>\n",
       "</div>"
      ],
      "text/plain": [
       "   Code Domaine                                            Domaine  Code zone  \\\n",
       "33         FBSH  Bilans Alimentaire (Ancienne méthodologie et p...        351   \n",
       "36         FBSH  Bilans Alimentaire (Ancienne méthodologie et p...         41   \n",
       "75         FBSH  Bilans Alimentaire (Ancienne méthodologie et p...        100   \n",
       "\n",
       "                   Zone  Code Élément            Élément  Code Produit  \\\n",
       "33                Chine           511  Population totale          2501   \n",
       "36  Chine, continentale           511  Population totale          2501   \n",
       "75                 Inde           511  Population totale          2501   \n",
       "\n",
       "       Produit  Code année  Année           Unité   Valeur Symbole  \\\n",
       "33  Population        2013   2013  1000 personnes  1416667       A   \n",
       "36  Population        2013   2013  1000 personnes  1385567     NaN   \n",
       "75  Population        2013   2013  1000 personnes  1252140     NaN   \n",
       "\n",
       "                               Description du Symbole  \n",
       "33  Agrégat, peut inclure des données officielles,...  \n",
       "36                                  Donnée officielle  \n",
       "75                                  Donnée officielle  "
      ]
     },
     "execution_count": 4,
     "metadata": {},
     "output_type": "execute_result"
    }
   ],
   "source": [
    "#on affiche les zones où le nombre est > à 1 milliards d'hbts\n",
    "df_investig = df[df['Valeur'] > 1000000]\n",
    "df_investig"
   ]
  },
  {
   "cell_type": "markdown",
   "metadata": {},
   "source": [
    "<div class=\"alert-danger\">\n",
    "<font color='red'> /!\\ => PRESENCE DE DEUX ZONES CHINE et CHINE CONTINETALE</font>\n",
    "</div>"
   ]
  },
  {
   "cell_type": "markdown",
   "metadata": {},
   "source": [
    "##### Récupération population Chine"
   ]
  },
  {
   "cell_type": "code",
   "execution_count": 5,
   "metadata": {
    "ExecuteTime": {
     "end_time": "2021-10-04T09:14:31.621589Z",
     "start_time": "2021-10-04T09:14:31.607627Z"
    }
   },
   "outputs": [
    {
     "name": "stdout",
     "output_type": "stream",
     "text": [
      "Pop_totale_Chine : 1416667000 hbts\n"
     ]
    }
   ],
   "source": [
    "#on récupère la population de la Chine\n",
    "Pop_totale_Chine = df.iloc[int(df[df['Code zone']==351].index[0]),df.columns.get_loc(\"Valeur\")]*1000\n",
    "print('Pop_totale_Chine : ' +str(Pop_totale_Chine)+' hbts')"
   ]
  },
  {
   "cell_type": "markdown",
   "metadata": {},
   "source": [
    "##### Calcul Somme : RAS + Provinces Chinoises"
   ]
  },
  {
   "cell_type": "code",
   "execution_count": 6,
   "metadata": {
    "ExecuteTime": {
     "end_time": "2021-10-04T09:14:31.652507Z",
     "start_time": "2021-10-04T09:14:31.623585Z"
    }
   },
   "outputs": [
    {
     "name": "stdout",
     "output_type": "stream",
     "text": [
      "Population RAS & Province : 1416667000 hbts\n"
     ]
    }
   ],
   "source": [
    "#on récupère les populations ségrégéés puis on les somme\n",
    "df_Chine_HK = df[df['Zone']  =='Chine - RAS de Hong-Kong']\n",
    "df_Chine_Mac = df[df['Zone'] =='Chine - RAS de Macao']\n",
    "df_Chine_Tai= df[df['Zone']  =='Chine, Taiwan Province de']\n",
    "df_Chine_Cont= df[df['Zone'] =='Chine, continentale']\n",
    "Pop_RAS_Prov = 1000*(df_Chine_HK['Valeur'].sum() + \n",
    "                         df_Chine_Mac['Valeur'].sum() + \n",
    "                             df_Chine_Tai['Valeur'].sum() + \n",
    "                                 df_Chine_Cont['Valeur'].sum())\n",
    "print('Population RAS & Province : '+str(Pop_RAS_Prov)+' hbts')"
   ]
  },
  {
   "cell_type": "markdown",
   "metadata": {},
   "source": [
    "<div class=\"alert-success\">\n",
    "<font color='green'> => SOURCE PROBLEME TROUVEE : DOUBLON</font>\n",
    "</div>"
   ]
  },
  {
   "cell_type": "markdown",
   "metadata": {},
   "source": [
    "##### Détermination population mondiale 2013 corrigée"
   ]
  },
  {
   "cell_type": "code",
   "execution_count": 7,
   "metadata": {
    "ExecuteTime": {
     "end_time": "2021-10-04T09:14:31.668464Z",
     "start_time": "2021-10-04T09:14:31.656497Z"
    }
   },
   "outputs": [
    {
     "name": "stdout",
     "output_type": "stream",
     "text": [
      "\u001b[6;31;40mPopulation Mondiale en 2013 : 6997326000 hbts\u001b[0m\n"
     ]
    }
   ],
   "source": [
    "#par soustraction on en déduit la population mondiale\n",
    "Pop_Mond = df['Valeur'].sum()*1000 - Pop_totale_Chine\n",
    "print('\\x1b[6;31;40m' + 'Population Mondiale en 2013 : '+str(Pop_Mond)+' hbts'+ '\\x1b[0m')"
   ]
  },
  {
   "cell_type": "markdown",
   "metadata": {},
   "source": [
    "### Question 2 : Identifiez ces redondances."
   ]
  },
  {
   "cell_type": "markdown",
   "metadata": {},
   "source": [
    "### Equation :\n",
    "#### Production + importations - exportations + variations des stocks  \n",
    "#### = quantités disponibles intérieure \n",
    "#### = Aliments pour animaux  + Semences + Pertes + Traitement + Autres utilisations + Nourriture"
   ]
  },
  {
   "cell_type": "code",
   "execution_count": 8,
   "metadata": {
    "ExecuteTime": {
     "end_time": "2021-10-04T09:14:34.023807Z",
     "start_time": "2021-10-04T09:14:31.673453Z"
    }
   },
   "outputs": [],
   "source": [
    "#on charge le dataset de données\n",
    "url = 'INPUTS_FORMATION/fr_vegetaux.csv'\n",
    "data = pd.read_csv(url, sep=',',encoding='utf-8')\n",
    "dfq2 = data.copy()"
   ]
  },
  {
   "cell_type": "code",
   "execution_count": 9,
   "metadata": {
    "ExecuteTime": {
     "end_time": "2021-10-04T09:14:34.086362Z",
     "start_time": "2021-10-04T09:14:34.023807Z"
    }
   },
   "outputs": [
    {
     "name": "stdout",
     "output_type": "stream",
     "text": [
      "Q1 : 20298000.0 tonnes\n",
      "Q2 : 20298000.0 tonnes\n",
      "Q3 : 20298000.0 tonnes\n",
      "Redondance vérifiée\n"
     ]
    }
   ],
   "source": [
    "#on séléctionne un pays et un produit (exemple demandé France + Blé)\n",
    "Pays = 'France'\n",
    "Produit = 'Blé'\n",
    "\n",
    "#on paramètre le dataframe fonction de Pays et Produit\n",
    "dfq2_verif = dfq2[dfq2['Zone'] ==Pays]\n",
    "dfq2_verif = dfq2_verif[dfq2_verif['Produit'] ==Produit]\n",
    "\n",
    "#définition des termes de l'équation\n",
    "dfq2_verif_Prod   = dfq2_verif[dfq2_verif['Élément'] =='Production']\n",
    "dfq2_verif_Import = dfq2_verif[dfq2_verif['Élément'] =='Importations - Quantité']\n",
    "dfq2_verif_Var    = dfq2_verif[dfq2_verif['Élément'] =='Variation de stock']\n",
    "dfq2_verif_Export = dfq2_verif[dfq2_verif['Élément'] =='Exportations - Quantité']\n",
    "dfq2_verif_Dispo  = dfq2_verif[dfq2_verif['Élément'] =='Disponibilité intérieure']\n",
    "dfq2_verif_Alimts = dfq2_verif[dfq2_verif['Élément'] =='Aliments pour animaux']\n",
    "dfq2_verif_Semen  = dfq2_verif[dfq2_verif['Élément'] =='Semences']\n",
    "dfq2_verif_Pertes = dfq2_verif[dfq2_verif['Élément'] =='Pertes']\n",
    "dfq2_verif_Trait  = dfq2_verif[dfq2_verif['Élément'] =='Traitement']\n",
    "dfq2_verif_Autres = dfq2_verif[dfq2_verif['Élément'] =='Autres utilisations (non alimentaire)']\n",
    "dfq2_verif_Nourr  = dfq2_verif[dfq2_verif['Élément'] =='Nourriture']\n",
    "\n",
    "#Soient les quantités suivantes :\n",
    "#Q1 = Production + importations - exportations + variations des stocks\n",
    "#Q2 = Quantités disponibles intérieure \n",
    "#Q3 = Aliments pour animaux + Semences + Pertes + Traitement + Autres utilisations + Nourriture\n",
    "\n",
    "#on calcule chacune des 3 quantités\n",
    "Q1 = 1000*(dfq2_verif_Prod['Valeur'].sum() + dfq2_verif_Import['Valeur'].sum()\n",
    "           - dfq2_verif_Export['Valeur'].sum() + dfq2_verif_Var['Valeur'].sum())\n",
    "Q2 = 1000*(dfq2_verif_Dispo['Valeur'].sum())\n",
    "Q3 = 1000*(dfq2_verif_Alimts['Valeur'].sum() + dfq2_verif_Semen['Valeur'].sum()\n",
    "           + dfq2_verif_Pertes['Valeur'].sum() + dfq2_verif_Trait['Valeur'].sum()\n",
    "             + dfq2_verif_Autres['Valeur'].sum() + dfq2_verif_Nourr['Valeur'].sum())\n",
    "\n",
    "print('Q1 : '+str(Q1)+' tonnes')\n",
    "print('Q2 : '+str(Q2)+' tonnes')\n",
    "print('Q3 : '+str(Q3)+' tonnes')\n",
    "if Q1==Q2==Q3 :\n",
    "    print('Redondance vérifiée')"
   ]
  },
  {
   "cell_type": "code",
   "execution_count": 10,
   "metadata": {
    "ExecuteTime": {
     "end_time": "2021-10-04T09:14:35.138390Z",
     "start_time": "2021-10-04T09:14:34.090358Z"
    }
   },
   "outputs": [
    {
     "data": {
      "image/png": "[encoded data removed]",
      "text/plain": [
       "<Figure size 360x360 with 1 Axes>"
      ]
     },
     "metadata": {},
     "output_type": "display_data"
    }
   ],
   "source": [
    "#on illustre les deux égalités\n",
    "dfq2_verif_pie = pd.DataFrame({'value': [Q1,Q2,Q3]},\n",
    "                  index=['Production + importations - exportations + variations des stocks', \n",
    "                         'Quantités disponibles intérieure', \n",
    "                         'Aliments pour animaux + Semences + Pertes + Traitement + Autres utilisations + Nourriture'])\n",
    "\n",
    "plot=dfq2_verif_pie.plot.pie(title='Répartition '+ Produit + ' pour '+ Pays ,y='value', figsize=(5, 5),legend=None)\n",
    "plt.ylabel(\"value\")\n",
    "plt.gca().axes.yaxis.set_visible(False)"
   ]
  },
  {
   "cell_type": "markdown",
   "metadata": {},
   "source": [
    "##### Téléchargement de tous les datasets et suppression doublon (Chine)"
   ]
  },
  {
   "cell_type": "code",
   "execution_count": 11,
   "metadata": {
    "ExecuteTime": {
     "end_time": "2021-10-04T09:14:35.170302Z",
     "start_time": "2021-10-04T09:14:35.142384Z"
    },
    "id": "DVKmbS0QydZV"
   },
   "outputs": [],
   "source": [
    "url = 'INPUTS_FORMATION/fr_population.csv'\n",
    "data = pd.read_csv(url, sep=',',encoding='utf-8')\n",
    "df1 = data.copy()\n",
    "#on supprime la ligne correspondant à Zone = Chine (cf. doublons)\n",
    "df1 = df1.drop(df1[df1['Code zone'] ==351].index, inplace=False)"
   ]
  },
  {
   "cell_type": "code",
   "execution_count": 12,
   "metadata": {
    "ExecuteTime": {
     "end_time": "2021-10-04T09:14:35.530339Z",
     "start_time": "2021-10-04T09:14:35.174295Z"
    }
   },
   "outputs": [],
   "source": [
    "url = 'INPUTS_FORMATION/fr_vegetaux.csv'\n",
    "data = pd.read_csv(url, sep=',',encoding='utf-8')\n",
    "df2 = data.copy()\n",
    "#on supprime la ligne correspondant à Zone = Chine (cf. doublons)\n",
    "df2 = df2.drop(df2[df2['Code zone'] ==351].index, inplace=False)"
   ]
  },
  {
   "cell_type": "code",
   "execution_count": 13,
   "metadata": {
    "ExecuteTime": {
     "end_time": "2021-10-04T09:14:35.702877Z",
     "start_time": "2021-10-04T09:14:35.532334Z"
    },
    "colab": {
     "base_uri": "https://localhost:8080/",
     "height": 357
    },
    "id": "jIwLo18AydZW",
    "outputId": "bd49e423-023f-4c63-9dba-89e864aa3991",
    "scrolled": true
   },
   "outputs": [],
   "source": [
    "url = 'INPUTS_FORMATION/fr_animaux.csv'\n",
    "data = pd.read_csv(url, sep=',',encoding='utf-8')\n",
    "df3 = data.copy()\n",
    "#on supprime la ligne correspondant à Zone = Chine (cf. doublons)\n",
    "df3 = df3.drop(df3[df3['Code zone'] ==351].index, inplace=False)"
   ]
  },
  {
   "cell_type": "code",
   "execution_count": 14,
   "metadata": {
    "ExecuteTime": {
     "end_time": "2021-10-04T09:14:35.734791Z",
     "start_time": "2021-10-04T09:14:35.705874Z"
    }
   },
   "outputs": [],
   "source": [
    "url = 'INPUTS_FORMATION/fr_céréales.csv'\n",
    "data = pd.read_csv(url, sep=',',encoding='utf-8')\n",
    "df4 = data.copy()\n",
    "#on supprime la ligne correspondant à Zone = Chine (cf. doublons)\n",
    "df4 = df4.drop(df4[df4['Code zone'] ==351].index, inplace=False)"
   ]
  },
  {
   "cell_type": "code",
   "execution_count": 15,
   "metadata": {
    "ExecuteTime": {
     "end_time": "2021-10-04T09:14:35.798621Z",
     "start_time": "2021-10-04T09:14:35.735792Z"
    }
   },
   "outputs": [],
   "source": [
    "url = 'INPUTS_FORMATION/fr_sousalimentation.csv'\n",
    "data = pd.read_csv(url, sep=',',encoding='utf-8')\n",
    "df5 = data.copy()\n",
    "#on supprime la ligne correspondant à Zone = Chine (cf. doublons)\n",
    "df5 = df5.drop(df5[df5['Code zone'] ==351].index, inplace=False)"
   ]
  },
  {
   "cell_type": "markdown",
   "metadata": {},
   "source": [
    "### Question 3 : Calculez (pour chaque pays et chaque produit) la disponibilité alimentaire en kcal puis en kg de protéines."
   ]
  },
  {
   "cell_type": "markdown",
   "metadata": {},
   "source": [
    "##### Concaténation des datasets vegetx et animx de même structure"
   ]
  },
  {
   "cell_type": "code",
   "execution_count": 16,
   "metadata": {
    "ExecuteTime": {
     "end_time": "2021-10-04T09:14:35.894365Z",
     "start_time": "2021-10-04T09:14:35.800617Z"
    }
   },
   "outputs": [],
   "source": [
    "#on concatène les 2 datasets\n",
    "frames = [df2, df3]\n",
    "result = pd.concat(frames, keys=['vegetx','animx'])"
   ]
  },
  {
   "cell_type": "markdown",
   "metadata": {},
   "source": [
    "##### Merge de ce df avec le dataset population"
   ]
  },
  {
   "cell_type": "code",
   "execution_count": 17,
   "metadata": {
    "ExecuteTime": {
     "end_time": "2021-10-04T09:14:36.127740Z",
     "start_time": "2021-10-04T09:14:35.898355Z"
    }
   },
   "outputs": [],
   "source": [
    "#on récupère l'info population mondiale que l'on intègre au df issu de la concanténation précédente\n",
    "table = pd.merge(result, df1, how=\"left\", on=\"Zone\")\n",
    "#on renomme les []\n",
    "table.rename(columns={'Code Domaine_x':'Code Domaine','Domaine_x':'Domaine','Code zone_x':'Code zone',\n",
    "                       'Code Élément_x':'Code Élément','Élément_x':'Élément','Code Produit_x':'Code Produit',\n",
    "'Produit_x':'Produit','Code année_x':'Code année','Année_x':'Année','Unité_x':'Unité','Valeur_x':'Valeur',\n",
    "'Symbole_x':'Symbole','Description du Symbole_x':'Description du Symbole','Unité_y':'Unité_population',\n",
    "                      'Valeur_y':'Valeur_populationx1000'}, inplace=True)\n",
    "#on sélectionne les [] que l'on veut conserver\n",
    "table=table[['Zone','Code zone','Élément','Année','Code Produit','Produit','Unité','Valeur','Unité_population',\n",
    "             'Valeur_populationx1000']]"
   ]
  },
  {
   "cell_type": "markdown",
   "metadata": {},
   "source": [
    "##### Réorganisation du df avec fonction pivot_table"
   ]
  },
  {
   "cell_type": "code",
   "execution_count": 18,
   "metadata": {
    "ExecuteTime": {
     "end_time": "2021-10-04T09:14:36.542631Z",
     "start_time": "2021-10-04T09:14:36.129736Z"
    }
   },
   "outputs": [],
   "source": [
    "#on factorise on met en avant les valeurs par éléments pour chaque produit\n",
    "table = table.pivot_table(index=['Zone','Code zone','Année','Produit','Code Produit','Valeur_populationx1000'],\n",
    "                          columns=['Élément'],\n",
    "                          values='Valeur',\n",
    "#                           aggfunc=np.sum,\n",
    "                          fill_value=0).reset_index()\n",
    "#on fait une copie pour la partie SQL (>Q14)\n",
    "table_q16 = table.copy()"
   ]
  },
  {
   "cell_type": "markdown",
   "metadata": {},
   "source": [
    "##### Détermination de la dispon kcal totale en itérant sur la table"
   ]
  },
  {
   "cell_type": "code",
   "execution_count": 19,
   "metadata": {
    "ExecuteTime": {
     "end_time": "2021-10-04T09:14:41.662112Z",
     "start_time": "2021-10-04T09:14:36.545626Z"
    }
   },
   "outputs": [
    {
     "name": "stdout",
     "output_type": "stream",
     "text": [
      "\u001b[6;31;40mDispon totale kcal (Q3)   : 7.36e+15 kcal\u001b[0m\n"
     ]
    }
   ],
   "source": [
    "for j, row in table.iterrows():\n",
    "#on créée une nouvelle []\n",
    "    table.loc[j,'Dispo_TOT_KCAL'] = row['Disponibilité alimentaire (Kcal/personne/jour)']*row['Valeur_populationx1000']*1000*365\n",
    "#on somme les valeurs de cette []\n",
    "somme_Dtot_kca = table['Dispo_TOT_KCAL'].sum()\n",
    "print('\\x1b[6;31;40m' + \"Dispon totale kcal (Q3)   : %.2e\" %somme_Dtot_kca + \" kcal\" + '\\x1b[0m')"
   ]
  },
  {
   "cell_type": "markdown",
   "metadata": {},
   "source": [
    "##### Détermination de la dispon kg totale en itérant sur la table"
   ]
  },
  {
   "cell_type": "code",
   "execution_count": 20,
   "metadata": {
    "ExecuteTime": {
     "end_time": "2021-10-04T09:14:46.242070Z",
     "start_time": "2021-10-04T09:14:41.668098Z"
    }
   },
   "outputs": [
    {
     "name": "stdout",
     "output_type": "stream",
     "text": [
      "\u001b[6;31;40mDispon totale kg (Q3)   : 4.88e+12 kg\u001b[0m\n"
     ]
    }
   ],
   "source": [
    "for j, row in table.iterrows():\n",
    "#on créée une nouvelle []\n",
    "    table.loc[j,'Dispo_TOT_KG'] = (row['Disponibilité alimentaire en quantité (kg/personne/an)'])*row['Valeur_populationx1000']*1000\n",
    "#on somme les valeurs de cette []\n",
    "somme_Dtot_kg = table['Dispo_TOT_KG'].sum()\n",
    "print('\\x1b[6;31;40m' + \"Dispon totale kg (Q3)   : %.2e\" %somme_Dtot_kg + \" kg\" + '\\x1b[0m')\n",
    "#on fait une copie pour la partie SQL (>Q14)\n",
    "table_q15 = table.copy()"
   ]
  },
  {
   "cell_type": "markdown",
   "metadata": {},
   "source": [
    "### Question 4 : Calculez pour chaque produit le ratio \"énergie/poids\" (en kcal/kg). Vérifier la cohérence avec les données internet."
   ]
  },
  {
   "cell_type": "markdown",
   "metadata": {},
   "source": [
    "##### Calcul du Ratio = Energie / Poids total"
   ]
  },
  {
   "cell_type": "code",
   "execution_count": 21,
   "metadata": {
    "ExecuteTime": {
     "end_time": "2021-10-04T09:14:50.517196Z",
     "start_time": "2021-10-04T09:14:46.244064Z"
    }
   },
   "outputs": [],
   "source": [
    "#on remplace les 0 par NaN pour éviter ZeroDivisionError dans ratio (autre possibilité avec try & except)\n",
    "table['Dispo_TOT_KG'] = table['Dispo_TOT_KG'].replace(0 ,np.nan)\n",
    "\n",
    "for j, row in table.iterrows():\n",
    "#on créée une nouvelle [] issue du calcul entre les 2 [] précédemment créées\n",
    "    table.loc[j,'RATIO_KCAL_KG'] = row['Dispo_TOT_KCAL']/row['Dispo_TOT_KG']\n",
    "# table.head()"
   ]
  },
  {
   "cell_type": "markdown",
   "metadata": {},
   "source": [
    "##### Comparaison pour la valeur calorique (produit = oeuf)"
   ]
  },
  {
   "attachments": {
    "valeur_calo_oeuf.jpg": {
     "image/jpeg": "[encoded data removed]"
    }
   },
   "cell_type": "markdown",
   "metadata": {},
   "source": [
    "![valeur_calo_oeuf.jpg](attachment:valeur_calo_oeuf.jpg)"
   ]
  },
  {
   "cell_type": "code",
   "execution_count": 22,
   "metadata": {
    "ExecuteTime": {
     "end_time": "2021-10-04T09:14:50.547839Z",
     "start_time": "2021-10-04T09:14:50.517196Z"
    }
   },
   "outputs": [
    {
     "name": "stdout",
     "output_type": "stream",
     "text": [
      "\u001b[6;31;40mValeur calorique moyenne    : 1365 Kcal/kg\u001b[0m\n",
      "\u001b[6;31;40mValeur calorique théorique  : 1470 Kcal/kg\u001b[0m\n"
     ]
    }
   ],
   "source": [
    "#on séléctionne 1 produit (ici : \"Oeufs\")\n",
    "produit_choisi = table[(table.Produit == 'Oeufs')]\n",
    "n = len(produit_choisi)\n",
    "maListe = []\n",
    "for i in range(n): \n",
    "#on relève la valeur pour chaque ligne de [RATIO_KCAL_KG]\n",
    "    rate = produit_choisi.iloc[i,produit_choisi.columns.get_loc('RATIO_KCAL_KG')]\n",
    "#remplissage de maListe\n",
    "    maListe.append(rate)\n",
    "#création df avec maListe\n",
    "dmaListe = pd.DataFrame({'produit_choisi': maListe })\n",
    "#conversion numérique\n",
    "dmaListe['produit_choisi'] = pd.to_numeric(dmaListe['produit_choisi'])\n",
    "#calcul moyenne liste\n",
    "average = dmaListe['produit_choisi'].mean()\n",
    "print('\\x1b[6;31;40m' + \"Valeur calorique moyenne    : %0.f\" %average + \" Kcal/kg\" + '\\x1b[0m')\n",
    "print('\\x1b[6;31;40m' + \"Valeur calorique théorique  : \" + str(147*10) +\" Kcal/kg\" + '\\x1b[0m')"
   ]
  },
  {
   "cell_type": "markdown",
   "metadata": {},
   "source": [
    "##### Calcul du % : Protéine = Poids de protéines / poids total"
   ]
  },
  {
   "cell_type": "code",
   "execution_count": 23,
   "metadata": {
    "ExecuteTime": {
     "end_time": "2021-10-04T09:14:54.666110Z",
     "start_time": "2021-10-04T09:14:50.550832Z"
    }
   },
   "outputs": [],
   "source": [
    "for j, row in table.iterrows():\n",
    "#on créée une nouvelle []\n",
    "    table.loc[j,'RATIO_POIDS_PROTEINES'] = 100*(row['Disponibilité de protéines en quantité (g/personne/jour)']*1e-3*365*row['Valeur_populationx1000']*1000)/row['Dispo_TOT_KG']\n",
    "# table.head()"
   ]
  },
  {
   "cell_type": "markdown",
   "metadata": {},
   "source": [
    "##### Formatage valeurs des 4 colonnes créées"
   ]
  },
  {
   "cell_type": "code",
   "execution_count": 24,
   "metadata": {
    "ExecuteTime": {
     "end_time": "2021-10-04T09:14:54.743623Z",
     "start_time": "2021-10-04T09:14:54.666110Z"
    }
   },
   "outputs": [],
   "source": [
    "#on formate les valeurs des 4 [] précédemment créées\n",
    "table['Dispo_TOT_KCAL'] = table['Dispo_TOT_KCAL'].apply(lambda x: \"{:.0f}\".format(x) if not pd.isnull(x) else x)\n",
    "table['Dispo_TOT_KG']   = table['Dispo_TOT_KG'].apply(lambda x: \"{:.0f}\".format(x) if not pd.isnull(x) else x)\n",
    "table['RATIO_KCAL_KG']  = table['RATIO_KCAL_KG'].apply(lambda x: \"{:.0f}\".format(x) if not pd.isnull(x) else x)\n",
    "table['RATIO_POIDS_PROTEINES'] = table['RATIO_POIDS_PROTEINES'].apply(lambda x: \"{:.1f}\".format(x) if not pd.isnull(x) else x)"
   ]
  },
  {
   "cell_type": "markdown",
   "metadata": {},
   "source": [
    "##### Comparaison du % protéine (produit = avoine)"
   ]
  },
  {
   "attachments": {
    "avoine_pct_prot.jpg": {
     "image/jpeg": "[encoded data removed]"
    }
   },
   "cell_type": "markdown",
   "metadata": {},
   "source": [
    "![avoine_pct_prot.jpg](attachment:avoine_pct_prot.jpg)"
   ]
  },
  {
   "cell_type": "code",
   "execution_count": 25,
   "metadata": {
    "ExecuteTime": {
     "end_time": "2021-10-04T09:14:54.774543Z",
     "start_time": "2021-10-04T09:14:54.744621Z"
    },
    "code_folding": []
   },
   "outputs": [
    {
     "name": "stdout",
     "output_type": "stream",
     "text": [
      "\u001b[6;31;40mTeneur en protéines moyenne   : 8.8 %\u001b[0m\n",
      "\u001b[6;31;40mTeneur en protéines théorique : 10.7 %\u001b[0m\n"
     ]
    }
   ],
   "source": [
    "#on séléctionne 1 produit (ici : \"Avoine\")\n",
    "produit_choisi = table[(table.Produit == 'Avoine')]\n",
    "n = len(produit_choisi)\n",
    "maListe = []\n",
    "for i in range(n): \n",
    "#on relève la valeur pour chaque ligne de [RATIO_POIDS_PROTEINES]\n",
    "    rate = produit_choisi.iloc[i,produit_choisi.columns.get_loc('RATIO_POIDS_PROTEINES')] \n",
    "#remplissage maListe\n",
    "    maListe.append(rate)\n",
    "#création df avec maListe\n",
    "dmaListe = pd.DataFrame({'produit_choisi': maListe })\n",
    "#conversion numérique\n",
    "dmaListe['produit_choisi'] = pd.to_numeric(dmaListe['produit_choisi'])\n",
    "#on remplace les 0 par des NaN pour ne pas fausser la moyenne\n",
    "dmaListe['produit_choisi'] = dmaListe['produit_choisi'].replace(0 ,np.nan)\n",
    "#calcul moyenne liste\n",
    "average = dmaListe['produit_choisi'].mean()\n",
    "print('\\x1b[6;31;40m' + \"Teneur en protéines moyenne   : %0.1f\" %average + \" %\" + '\\x1b[0m')\n",
    "print('\\x1b[6;31;40m' + \"Teneur en protéines théorique : \" + str(10.7) +\" %\" + '\\x1b[0m')"
   ]
  },
  {
   "cell_type": "markdown",
   "metadata": {},
   "source": [
    "### Question 5 : Citez 5 aliments parmi les 20 aliments les plus caloriques, en utilisant le ratio énergie/poids."
   ]
  },
  {
   "cell_type": "code",
   "execution_count": 26,
   "metadata": {
    "ExecuteTime": {
     "end_time": "2021-10-04T09:14:54.835377Z",
     "start_time": "2021-10-04T09:14:54.778535Z"
    },
    "code_folding": []
   },
   "outputs": [
    {
     "data": {
      "text/html": [
       "<div>\n",
       "<style scoped>\n",
       "    .dataframe tbody tr th:only-of-type {\n",
       "        vertical-align: middle;\n",
       "    }\n",
       "\n",
       "    .dataframe tbody tr th {\n",
       "        vertical-align: top;\n",
       "    }\n",
       "\n",
       "    .dataframe thead th {\n",
       "        text-align: right;\n",
       "    }\n",
       "</style>\n",
       "<table border=\"1\" class=\"dataframe\">\n",
       "  <thead>\n",
       "    <tr style=\"text-align: right;\">\n",
       "      <th>Élément</th>\n",
       "      <th>RATIO_KCAL_KG</th>\n",
       "    </tr>\n",
       "    <tr>\n",
       "      <th>Produit</th>\n",
       "      <th></th>\n",
       "    </tr>\n",
       "  </thead>\n",
       "  <tbody>\n",
       "    <tr>\n",
       "      <th>Huiles de Foie de Poisso</th>\n",
       "      <td>11809.0</td>\n",
       "    </tr>\n",
       "    <tr>\n",
       "      <th>Huile de Sésame</th>\n",
       "      <td>10146.0</td>\n",
       "    </tr>\n",
       "    <tr>\n",
       "      <th>Huile d'Olive</th>\n",
       "      <td>9293.0</td>\n",
       "    </tr>\n",
       "    <tr>\n",
       "      <th>Huile de Germe de Maïs</th>\n",
       "      <td>9257.0</td>\n",
       "    </tr>\n",
       "    <tr>\n",
       "      <th>Huile de Son de Riz</th>\n",
       "      <td>9206.0</td>\n",
       "    </tr>\n",
       "  </tbody>\n",
       "</table>\n",
       "</div>"
      ],
      "text/plain": [
       "Élément                   RATIO_KCAL_KG\n",
       "Produit                                \n",
       "Huiles de Foie de Poisso        11809.0\n",
       "Huile de Sésame                 10146.0\n",
       "Huile d'Olive                    9293.0\n",
       "Huile de Germe de Maïs           9257.0\n",
       "Huile de Son de Riz              9206.0"
      ]
     },
     "execution_count": 26,
     "metadata": {},
     "output_type": "execute_result"
    }
   ],
   "source": [
    "#conversion numérique de [RATIO_KCAL_KG]\n",
    "table['RATIO_KCAL_KG'] = pd.to_numeric(table['RATIO_KCAL_KG'])\n",
    "#on remplace les 0 par des NaN pour ne pas fausser la moyenne\n",
    "table['RATIO_KCAL_KG'] = table['RATIO_KCAL_KG'].replace(0 ,np.nan)\n",
    "#aggrégation & création d'une nouvelle table moyennant chaque produit sur tous les pays\n",
    "table_agg = table.groupby(['Produit']).agg({'RATIO_KCAL_KG':np.mean})\n",
    "#tri [RATIO_KCAL_KG] par ordre décroissant\n",
    "table_agg_sorted_desc = table_agg.sort_values(['RATIO_KCAL_KG'], ascending=0)\n",
    "#formatage données\n",
    "table_agg_sorted_desc['RATIO_KCAL_KG'] = table_agg_sorted_desc['RATIO_KCAL_KG'].apply(lambda x: \"{:.0f}\".format(x) if not pd.isnull(x) else x)\n",
    "table_agg_sorted_desc['RATIO_KCAL_KG'] = pd.to_numeric(table_agg_sorted_desc['RATIO_KCAL_KG'])\n",
    "#affichage des 5 aliments les plus caloriques\n",
    "table_agg_sorted_desc.nlargest(5, 'RATIO_KCAL_KG')"
   ]
  },
  {
   "cell_type": "markdown",
   "metadata": {},
   "source": [
    "### Question 5 : Citez 5 aliments parmi les 20 aliments les plus riches en protéines."
   ]
  },
  {
   "cell_type": "code",
   "execution_count": 27,
   "metadata": {
    "ExecuteTime": {
     "end_time": "2021-10-04T09:14:54.883251Z",
     "start_time": "2021-10-04T09:14:54.837375Z"
    }
   },
   "outputs": [
    {
     "data": {
      "text/html": [
       "<div>\n",
       "<style scoped>\n",
       "    .dataframe tbody tr th:only-of-type {\n",
       "        vertical-align: middle;\n",
       "    }\n",
       "\n",
       "    .dataframe tbody tr th {\n",
       "        vertical-align: top;\n",
       "    }\n",
       "\n",
       "    .dataframe thead th {\n",
       "        text-align: right;\n",
       "    }\n",
       "</style>\n",
       "<table border=\"1\" class=\"dataframe\">\n",
       "  <thead>\n",
       "    <tr style=\"text-align: right;\">\n",
       "      <th>Élément</th>\n",
       "      <th>RATIO_POIDS_PROTEINES</th>\n",
       "    </tr>\n",
       "    <tr>\n",
       "      <th>Produit</th>\n",
       "      <th></th>\n",
       "    </tr>\n",
       "  </thead>\n",
       "  <tbody>\n",
       "    <tr>\n",
       "      <th>Graines Colza/Moutarde</th>\n",
       "      <td>36.0</td>\n",
       "    </tr>\n",
       "    <tr>\n",
       "      <th>Soja</th>\n",
       "      <td>27.0</td>\n",
       "    </tr>\n",
       "    <tr>\n",
       "      <th>Arachides Decortiquees</th>\n",
       "      <td>25.0</td>\n",
       "    </tr>\n",
       "    <tr>\n",
       "      <th>Pois</th>\n",
       "      <td>22.0</td>\n",
       "    </tr>\n",
       "    <tr>\n",
       "      <th>Légumineuses Autres</th>\n",
       "      <td>22.0</td>\n",
       "    </tr>\n",
       "  </tbody>\n",
       "</table>\n",
       "</div>"
      ],
      "text/plain": [
       "Élément                 RATIO_POIDS_PROTEINES\n",
       "Produit                                      \n",
       "Graines Colza/Moutarde                   36.0\n",
       "Soja                                     27.0\n",
       "Arachides Decortiquees                   25.0\n",
       "Pois                                     22.0\n",
       "Légumineuses Autres                      22.0"
      ]
     },
     "execution_count": 27,
     "metadata": {},
     "output_type": "execute_result"
    }
   ],
   "source": [
    "#conversion numérique de [RATIO_POIDS_PROTEINES]\n",
    "table['RATIO_POIDS_PROTEINES'] = pd.to_numeric(table['RATIO_POIDS_PROTEINES'])\n",
    "#on remplace les 0 par des NaN pour ne pas fausser la moyenne\n",
    "table['RATIO_POIDS_PROTEINES'] = table['RATIO_POIDS_PROTEINES'].replace(0 ,np.nan)\n",
    "#aggrégation & création d'une nouvelle table moyennant chaque produit sur tous les pays\n",
    "table_agg_P = table.groupby(['Produit']).agg({'RATIO_POIDS_PROTEINES':np.mean})\n",
    "#tri [RATIO_POIDS_PROTEINES] par ordre décroissant et affichage des 5 aliments les plus caloriques\n",
    "table_agg_P_sorted_desc = table_agg_P.sort_values(['RATIO_POIDS_PROTEINES'], ascending=0)\n",
    "#formatage données\n",
    "table_agg_P_sorted_desc['RATIO_POIDS_PROTEINES']  = table_agg_P_sorted_desc['RATIO_POIDS_PROTEINES'].apply(lambda x: \"{:.0f}\".format(x) if not pd.isnull(x) else x)\n",
    "table_agg_P_sorted_desc['RATIO_POIDS_PROTEINES'] = pd.to_numeric(table_agg_P_sorted_desc['RATIO_POIDS_PROTEINES'])\n",
    "#affichage des 5 aliments les plus riches en protéines\n",
    "table_agg_P_sorted_desc.nlargest(5, 'RATIO_POIDS_PROTEINES')"
   ]
  },
  {
   "cell_type": "markdown",
   "metadata": {},
   "source": [
    "### Question 6 : Calculez, pour les produits végétaux uniquement, la disponibilité intérieure mondiale exprimée en kcal."
   ]
  },
  {
   "cell_type": "code",
   "execution_count": 28,
   "metadata": {
    "ExecuteTime": {
     "end_time": "2021-10-04T09:14:59.896986Z",
     "start_time": "2021-10-04T09:14:54.892231Z"
    }
   },
   "outputs": [
    {
     "name": "stdout",
     "output_type": "stream",
     "text": [
      "\u001b[6;31;40mDisponibilité intérieure mondiale (Q6)   : 1.22e+16 kcal\u001b[0m\n"
     ]
    }
   ],
   "source": [
    "#création set contenant les différents produits existant dans le dataset vegetaux\n",
    "list_vegtx = tuple(df2['Produit'].unique())\n",
    "\n",
    "n = len(table)\n",
    "for i, row in table.iterrows():\n",
    "#on relève la valeur pour chaque ligne de [Produit]\n",
    "    val_prod = table.iloc[i,table.columns.get_loc('Produit')]\n",
    "#si valeur dans la liste des produits vegetaux précdémment établie\n",
    "    if val_prod in list_vegtx :\n",
    "#alors création [] contenant le produit [RATIO_KCAL_KG] x [disponibilité intérieure]\n",
    "        table.loc[i,'DISP_IN_MOND_KCAL_Q6'] = table.iloc[i,table.columns.get_loc('RATIO_KCAL_KG')]*table.iloc[i,table.columns.get_loc('Disponibilité intérieure')]*1000000\n",
    "#on somme les valeurs de cette []\n",
    "somme_q6_kca = table['DISP_IN_MOND_KCAL_Q6'].sum()\n",
    "print('\\x1b[6;31;40m' + \"Disponibilité intérieure mondiale (Q6)   : %.2e\" %somme_q6_kca + \" kcal\" + '\\x1b[0m')"
   ]
  },
  {
   "cell_type": "markdown",
   "metadata": {},
   "source": [
    "### Question 7:  Combien d'humains pourraient être nourris si toute la disponibilité intérieure mondiale de produits végétaux était utilisée pour de la nourriture ? "
   ]
  },
  {
   "cell_type": "markdown",
   "metadata": {},
   "source": [
    "##### Donnez les résultats en termes de calories"
   ]
  },
  {
   "cell_type": "code",
   "execution_count": 29,
   "metadata": {
    "ExecuteTime": {
     "end_time": "2021-10-04T09:14:59.911947Z",
     "start_time": "2021-10-04T09:14:59.898983Z"
    }
   },
   "outputs": [
    {
     "name": "stdout",
     "output_type": "stream",
     "text": [
      "\u001b[6;31;40mNb humains nourris   : 13333058241\u001b[0m\n",
      "\u001b[6;31;40mRapporté à la pop Mondiale   : 191 %\u001b[0m\n"
     ]
    }
   ],
   "source": [
    "#info:quantité de calories nécessaires chaque jour à l'adulte en moyenne, de 2400 à 2600 kcal par jour.\n",
    "#partons sur un besoin nutritionnel moyen => 2500 kcal/jr\n",
    "nb_humains = somme_q6_kca / (2500*365) #données globales annuelles\n",
    "print('\\x1b[6;31;40m' + \"Nb humains nourris   : %.f\" %nb_humains + '\\x1b[0m')\n",
    "prcent_hum = 100*(nb_humains/(df1['Valeur'].sum()*1000))\n",
    "print('\\x1b[6;31;40m' + \"Rapporté à la pop Mondiale   : %.0f\" %prcent_hum + \" %\"+ '\\x1b[0m')"
   ]
  },
  {
   "cell_type": "markdown",
   "metadata": {},
   "source": [
    "##### Donnez les résultats en termes de protéines"
   ]
  },
  {
   "cell_type": "code",
   "execution_count": 30,
   "metadata": {
    "ExecuteTime": {
     "end_time": "2021-10-04T09:15:04.855967Z",
     "start_time": "2021-10-04T09:14:59.913944Z"
    }
   },
   "outputs": [
    {
     "name": "stdout",
     "output_type": "stream",
     "text": [
      "\u001b[6;31;40mDisponibilité intérieure mondiale (Q7)   : 2.92e+11 kg\u001b[0m\n",
      "\u001b[6;31;40mNb humains nourris   : 13802065942\u001b[0m\n",
      "\u001b[6;31;40mRapporté à la pop Mondiale   : 197 %\u001b[0m\n"
     ]
    }
   ],
   "source": [
    "#même calcul qu'en Q6, mais en utilisant le ratio [RATIO_POIDS_PROTEINES]\n",
    "n = len(table)\n",
    "for i, row in table.iterrows():\n",
    "#on relève la valeur pour chaque ligne de [Produit]\n",
    "    val_prod = table.iloc[i,table.columns.get_loc('Produit')]\n",
    "#si valeur dans la liste des produits vegetaux\n",
    "    if val_prod in list_vegtx :\n",
    "#alors création [] contenant le produit [RATIO_POIDS_PROTEINES)] x [disponibilité intérieure]\n",
    "        table.loc[i,'DISP_IN_MOND_KG_Q7'] = 1/100*table.iloc[i,table.columns.get_loc('RATIO_POIDS_PROTEINES')]*table.iloc[i,table.columns.get_loc('Disponibilité intérieure')]*1000000\n",
    "#on somme les valeurs de cette []\n",
    "somme_q6_prot = table['DISP_IN_MOND_KG_Q7'].sum()\n",
    "print('\\x1b[6;31;40m' + \"Disponibilité intérieure mondiale (Q7)   : %.2e\" %somme_q6_prot + \" kg\" + '\\x1b[0m')\n",
    "\n",
    "#info:quantité de protéines nécessaires chaque jour à l'adulte en moyenne, 0.83 g/kg/jr\n",
    "#considérons le besoin nutritionnel pour un adulte moyen de 70kg => 58 g/pers/jr\n",
    "nb_humains = somme_q6_prot / (58*1e-3*365) #données globales annuelles\n",
    "print('\\x1b[6;31;40m' + \"Nb humains nourris   : %.f\" %nb_humains + '\\x1b[0m')\n",
    "prcent_hum = 100*(nb_humains/(df1['Valeur'].sum()*1000))\n",
    "print('\\x1b[6;31;40m' + \"Rapporté à la pop Mondiale   : %.0f\" %prcent_hum + \" %\"+ '\\x1b[0m')"
   ]
  },
  {
   "cell_type": "markdown",
   "metadata": {},
   "source": [
    "### Question 8 : Combien d'humains pourraient être nourris si toute la disponibilité alimentaire en produits végétaux + la nourriture végétale destinée aux animaux + les pertes de produits végétaux étaient utilisés pour de la nourriture ?"
   ]
  },
  {
   "cell_type": "markdown",
   "metadata": {},
   "source": [
    "##### Donnez les résultats en termes de calories"
   ]
  },
  {
   "cell_type": "code",
   "execution_count": 31,
   "metadata": {
    "ExecuteTime": {
     "end_time": "2021-10-04T09:15:11.017997Z",
     "start_time": "2021-10-04T09:15:04.859958Z"
    }
   },
   "outputs": [
    {
     "name": "stdout",
     "output_type": "stream",
     "text": [
      "\u001b[6;31;40mDisponibilité intérieure mondiale (Q8)   : 9.17e+15 kcal\u001b[0m\n",
      "\u001b[6;31;40mNb humains nourris   : 10049419319\u001b[0m\n",
      "\u001b[6;31;40mRapporté à la pop Mondiale   : 144 %\u001b[0m\n"
     ]
    }
   ],
   "source": [
    "#même calcul qu'en Q6, mais en utilisant la somme des 3 éléments visés (et non plus la dispo intérieure)\n",
    "n = len(table)\n",
    "for i, row in table.iterrows():\n",
    "#on relève la valeur pour chaque ligne de [Produit]\n",
    "    val_prod = table.iloc[i,table.columns.get_loc('Produit')]\n",
    "#si valeur dans la liste des produits vegetaux\n",
    "    if val_prod in list_vegtx :\n",
    "#alors création [] contenant le produit [RATIO_KCAL_KG] x [somme 3 Eléments visés]\n",
    "        table.loc[i,'DISP_IN_MOND_KCAL_Q8'] = table.iloc[i,table.columns.get_loc('RATIO_KCAL_KG')]*1000000*(table.iloc[i,table.columns.get_loc('Nourriture')]+table.iloc[i,table.columns.get_loc('Aliments pour animaux')]+table.iloc[i,table.columns.get_loc('Pertes')])\n",
    "#on somme toutes les valeurs de cette []\n",
    "somme_q8_kca = table['DISP_IN_MOND_KCAL_Q8'].sum()\n",
    "print('\\x1b[6;31;40m' + \"Disponibilité intérieure mondiale (Q8)   : %.2e\" %somme_q8_kca + \" kcal\" + '\\x1b[0m')\n",
    "\n",
    "#info:quantité de calories nécessaires chaque jour à l'adulte en moyenne, de 2400 à 2600 kcal par jour.\n",
    "#partons sur un besoin nutritionnel moyen => 2500 kcal/jr\n",
    "nb_humains = somme_q8_kca / (2500*365)\n",
    "print('\\x1b[6;31;40m' + \"Nb humains nourris   : %.f\" %nb_humains + '\\x1b[0m')\n",
    "prcent_hum = 100*(nb_humains/(df1['Valeur'].sum()*1000))\n",
    "print('\\x1b[6;31;40m' + \"Rapporté à la pop Mondiale   : %.0f\" %prcent_hum + \" %\"+ '\\x1b[0m')"
   ]
  },
  {
   "cell_type": "markdown",
   "metadata": {},
   "source": [
    "##### Donnez les résultats en termes de protéines"
   ]
  },
  {
   "cell_type": "code",
   "execution_count": 32,
   "metadata": {
    "ExecuteTime": {
     "end_time": "2021-10-04T09:15:16.764860Z",
     "start_time": "2021-10-04T09:15:11.019992Z"
    }
   },
   "outputs": [
    {
     "name": "stdout",
     "output_type": "stream",
     "text": [
      "\u001b[6;31;40mDisponibilité intérieure mondiale (Q8)   : 2.05e+11 kg\u001b[0m\n",
      "\u001b[6;31;40mNb humains nourris   : 9666385215\u001b[0m\n",
      "\u001b[6;31;40mRapporté à la pop Mondiale   : 138 %\u001b[0m\n"
     ]
    }
   ],
   "source": [
    "#même calcul qu'en Q7, mais en utilisant la somme des 3 éléments visés (et non plus la dispo intérieure)\n",
    "n = len(table)\n",
    "for i, row in table.iterrows():\n",
    "#on relève la valeur pour chaque ligne de [Produit]\n",
    "    val_prod = table.iloc[i,table.columns.get_loc('Produit')]\n",
    "#si valeur dans la liste des produits vegetaux\n",
    "    if val_prod in list_vegtx :\n",
    "#alors création [] contenant le produit [RATIO_POIDS_PROTEINES] x [somme 3 Eléments visés]\n",
    "        table.loc[i,'DISP_IN_MOND_KG_Q8'] = 1/100*table.iloc[i,table.columns.get_loc('RATIO_POIDS_PROTEINES')]*1000000*(table.iloc[i,table.columns.get_loc('Nourriture')]+table.iloc[i,table.columns.get_loc('Aliments pour animaux')]+table.iloc[i,table.columns.get_loc('Pertes')])\n",
    "#on somme toutes les valeurs de cette []\n",
    "somme_q8_prot = table['DISP_IN_MOND_KG_Q8'].sum()\n",
    "print('\\x1b[6;31;40m' + \"Disponibilité intérieure mondiale (Q8)   : %.2e\" %somme_q8_prot + \" kg\" + '\\x1b[0m')\n",
    "\n",
    "#info:quantité de protéines nécessaires chaque jour à l'adulte en moyenne, 0.83 g/kg/jr\n",
    "#considérons le besoin nutritionnel pour un adulte moyen de 70kg => 58 g/pers/jr\n",
    "nb_humains = somme_q8_prot / (58*1e-3*365)\n",
    "print('\\x1b[6;31;40m' + \"Nb humains nourris   : %.f\" %nb_humains + '\\x1b[0m')\n",
    "prcent_hum = 100*(nb_humains/(df1['Valeur'].sum()*1000))\n",
    "print('\\x1b[6;31;40m' + \"Rapporté à la pop Mondiale   : %.0f\" %prcent_hum + \" %\"+ '\\x1b[0m')"
   ]
  },
  {
   "cell_type": "markdown",
   "metadata": {},
   "source": [
    "### Question 9 : Combien d'humains pourraient être nourris avec la disponibilité alimentaire mondiale ? Donnez les résultats en termes de calories, puis de protéines, et exprimez ensuite ces 2 résultats en pourcentage de la population mondiale."
   ]
  },
  {
   "cell_type": "markdown",
   "metadata": {},
   "source": [
    "##### Donnez les résultats en termes de calories"
   ]
  },
  {
   "cell_type": "code",
   "execution_count": 33,
   "metadata": {
    "ExecuteTime": {
     "end_time": "2021-10-04T09:15:22.646653Z",
     "start_time": "2021-10-04T09:15:16.766856Z"
    }
   },
   "outputs": [
    {
     "name": "stdout",
     "output_type": "stream",
     "text": [
      "\u001b[6;31;40mDisponibilité intérieure mondiale (Q9)   : 7.36e+15 kcal\u001b[0m\n",
      "\u001b[6;31;40mNb humains nourris   : 8063685261\u001b[0m\n",
      "\u001b[6;31;40mRapporté à la pop Mondiale   : 115 %\u001b[0m\n"
     ]
    }
   ],
   "source": [
    "#même calcul qu'en Q8, mais pour TOUS les produits (animx & vegetx) & élément = Nourriture seulement\n",
    "n = len(table)\n",
    "for i, row in table.iterrows():\n",
    "#alors création [] contenant le produit [RATIO_KCAL_KG)] x [Nourriture]\n",
    "    table.loc[i,'DISP_IN_MOND_KCAL_Q9'] = table.iloc[i,table.columns.get_loc('RATIO_KCAL_KG')]*1000000*(table.iloc[i,table.columns.get_loc('Nourriture')])\n",
    "#on somme les valeurs de cette []\n",
    "somme_q9_kca = table['DISP_IN_MOND_KCAL_Q9'].sum()\n",
    "print('\\x1b[6;31;40m' + \"Disponibilité intérieure mondiale (Q9)   : %.2e\" %somme_q9_kca + \" kcal\" + '\\x1b[0m')\n",
    "\n",
    "#info:quantité de calories nécessaires chaque jour à l'adulte en moyenne, de 2400 à 2600 kcal par jour.\n",
    "#partons sur un besoin nutritionnel moyen => 2500 kcal/jr\n",
    "nb_humains = somme_q9_kca / (2500*365)\n",
    "print('\\x1b[6;31;40m' + \"Nb humains nourris   : %.f\" %nb_humains + '\\x1b[0m')\n",
    "prcent_hum = 100*(nb_humains/(df1['Valeur'].sum()*1000))\n",
    "print('\\x1b[6;31;40m' + \"Rapporté à la pop Mondiale   : %.0f\" %prcent_hum + \" %\"+ '\\x1b[0m')"
   ]
  },
  {
   "cell_type": "markdown",
   "metadata": {},
   "source": [
    "##### Donnez les résultats en termes de protéines"
   ]
  },
  {
   "cell_type": "code",
   "execution_count": 34,
   "metadata": {
    "ExecuteTime": {
     "end_time": "2021-10-04T09:15:28.205754Z",
     "start_time": "2021-10-04T09:15:22.648649Z"
    }
   },
   "outputs": [
    {
     "name": "stdout",
     "output_type": "stream",
     "text": [
      "\u001b[6;31;40mDisponibilité intérieure mondiale (Q9)   : 2.07e+11 kg\u001b[0m\n",
      "\u001b[6;31;40mNb humains nourris   : 9791363533\u001b[0m\n",
      "\u001b[6;31;40mRapporté à la pop Mondiale   : 140 %\u001b[0m\n"
     ]
    }
   ],
   "source": [
    "#même calcul qu'en Q8, mais pour TOUS les produits (animx & vegetx) & élément = Nourriture seulement\n",
    "n = len(table)\n",
    "for i, row in table.iterrows():\n",
    "#alors création [] contenant le produit [RATIO_POIDS_PROTEINES] x [Nourriture]\n",
    "        table.loc[i,'DISP_IN_MOND_KG_Q9'] = 1/100*table.iloc[i,table.columns.get_loc('RATIO_POIDS_PROTEINES')]*1000000*(table.iloc[i,table.columns.get_loc('Nourriture')])\n",
    "#on somme les valeurs de cette []\n",
    "somme_q9_prot = table['DISP_IN_MOND_KG_Q9'].sum()\n",
    "print('\\x1b[6;31;40m' + \"Disponibilité intérieure mondiale (Q9)   : %.2e\" %somme_q9_prot + \" kg\" + '\\x1b[0m')\n",
    "\n",
    "#info:quantité de protéines nécessaires chaque jour à l'adulte en moyenne, 0.83 g/kg/jr\n",
    "#considérons le besoin nutritionnel pour un adulte moyen de 70kg => 58 g/pers/jr\n",
    "nb_humains = somme_q9_prot / (58*1e-3*365)\n",
    "print('\\x1b[6;31;40m' + \"Nb humains nourris   : %.f\" %nb_humains + '\\x1b[0m')\n",
    "prcent_hum = 100*(nb_humains/(df1['Valeur'].sum()*1000))\n",
    "print('\\x1b[6;31;40m' + \"Rapporté à la pop Mondiale   : %.0f\" %prcent_hum + \" %\"+ '\\x1b[0m')"
   ]
  },
  {
   "cell_type": "markdown",
   "metadata": {},
   "source": [
    "### Question 10 : A partir des données téléchargées qui concernent la sous-nutrition, répondez à cette question : Quelle proportion de la population mondiale est considérée comme étant en sous-nutrition ?"
   ]
  },
  {
   "cell_type": "code",
   "execution_count": 35,
   "metadata": {
    "ExecuteTime": {
     "end_time": "2021-10-04T09:15:28.237643Z",
     "start_time": "2021-10-04T09:15:28.206836Z"
    }
   },
   "outputs": [
    {
     "name": "stdout",
     "output_type": "stream",
     "text": [
      "\u001b[6;31;40mpopulation mondiale en sous-nutrition (2012-2014)   : 746000000\u001b[0m\n",
      "\u001b[6;31;40mRapporté à la pop Mondiale   : 10.7 %\u001b[0m\n",
      "\n"
     ]
    }
   ],
   "source": [
    "#séléctionner l'année 2013 incluse dans 2012-2014\n",
    "result = df5.loc[(df5['Année']==\"2012-2014\",['Valeur'])]\n",
    "#on remplace les caractères spéciaux avec comme hypothèse la considération de la valeur max (0.1 -> 100000 pers)\n",
    "result['Valeur'] = result['Valeur'].replace('<0.1' ,'0.1')\n",
    "result['Valeur'] = pd.to_numeric(result['Valeur'])\n",
    "#on ajuste l'unité de la population\n",
    "pop_ssal = result['Valeur'].sum()*1e6\n",
    "print('\\x1b[6;31;40m' + \"population mondiale en sous-nutrition (2012-2014)   : %.f\" %pop_ssal + '\\x1b[0m')\n",
    "prcent_hum = 100*(pop_ssal/(df1['Valeur'].sum()*1000))\n",
    "print('\\x1b[6;31;40m' + \"Rapporté à la pop Mondiale   : %.1f\" %prcent_hum + \" %\"+ '\\x1b[0m')\n",
    "print('')              "
   ]
  },
  {
   "cell_type": "markdown",
   "metadata": {},
   "source": [
    "### Question 11 : En ne prenant en compte que les céréales destinées à l'alimentation (humaine et animale), quelle proportion (en termes de poids) est destinée à l'alimentation animale ?"
   ]
  },
  {
   "cell_type": "markdown",
   "metadata": {},
   "source": [
    "##### Récupération liste céréales selon FAO from df céréales (df4)"
   ]
  },
  {
   "cell_type": "code",
   "execution_count": 36,
   "metadata": {
    "ExecuteTime": {
     "end_time": "2021-10-04T09:15:28.252592Z",
     "start_time": "2021-10-04T09:15:28.242621Z"
    }
   },
   "outputs": [],
   "source": [
    "#création sets contenant les différents céréales existant dans le dataset céréales\n",
    "list_cereal = tuple(df4['Produit'].unique())\n",
    "list_cereal_code = tuple(df4['Code Produit'].unique())\n",
    "# print(list_cereal)\n",
    "# print(list_cereal_code)"
   ]
  },
  {
   "cell_type": "markdown",
   "metadata": {},
   "source": [
    "##### Création colonne booléen "
   ]
  },
  {
   "cell_type": "code",
   "execution_count": 37,
   "metadata": {
    "ExecuteTime": {
     "end_time": "2021-10-04T09:15:35.376732Z",
     "start_time": "2021-10-04T09:15:28.254587Z"
    }
   },
   "outputs": [],
   "source": [
    "n = len(table)\n",
    "for i, row in table.iterrows():\n",
    "#on relève la valeur pour chaque ligne de [Produit]\n",
    "    val_prod = table.iloc[i,table.columns.get_loc('Produit')]\n",
    "#si valeur contenue dans la liste des céréales pécédemment établie alors création [] contenant True or False\n",
    "    if val_prod in list_cereal :\n",
    "        table.loc[i,'is_cereal'] = 'True'\n",
    "    else :\n",
    "        table.loc[i,'is_cereal'] = 'False'"
   ]
  },
  {
   "cell_type": "markdown",
   "metadata": {},
   "source": [
    "##### Somme sur [aliments pr animx] selon condition [is_cereal]"
   ]
  },
  {
   "cell_type": "code",
   "execution_count": 38,
   "metadata": {
    "ExecuteTime": {
     "end_time": "2021-10-04T09:15:35.407710Z",
     "start_time": "2021-10-04T09:15:35.376732Z"
    }
   },
   "outputs": [
    {
     "name": "stdout",
     "output_type": "stream",
     "text": [
      "\u001b[6;31;40mproportion destinée à l'alimentation animale   : 873535 Milliers de tonnes\u001b[0m\n",
      "\u001b[6;31;40mproportion destinée à l'alimentation animale   : 46 %\u001b[0m\n"
     ]
    }
   ],
   "source": [
    "#on somme les valeurs si [is_cereal] = True\n",
    "prop_tot_alim_animx_cereal = table.loc[(table['is_cereal']==\"True\"),['Aliments pour animaux']].sum()\n",
    "prop_tot_alim_humain_cereal = table.loc[(table['is_cereal']==\"True\"),['Nourriture']].sum()\n",
    "print('\\x1b[6;31;40m' + \"proportion destinée à l'alimentation animale   : %.f\" %prop_tot_alim_animx_cereal + \" Milliers de tonnes\"+ '\\x1b[0m')\n",
    "#ratio vs alimentation totale\n",
    "prcent_prop = 100*prop_tot_alim_animx_cereal.unique()/(prop_tot_alim_animx_cereal.unique()+prop_tot_alim_humain_cereal.unique())\n",
    "print('\\x1b[6;31;40m' + \"proportion destinée à l'alimentation animale   : %.f\" %prcent_prop + \" %\"+ '\\x1b[0m')"
   ]
  },
  {
   "cell_type": "markdown",
   "metadata": {},
   "source": [
    "##### Repérez les 15 produits les plus exportés par ce groupe de pays."
   ]
  },
  {
   "cell_type": "code",
   "execution_count": 39,
   "metadata": {
    "ExecuteTime": {
     "end_time": "2021-10-04T09:15:38.532324Z",
     "start_time": "2021-10-04T09:15:35.409704Z"
    }
   },
   "outputs": [
    {
     "data": {
      "text/html": [
       "<div>\n",
       "<style scoped>\n",
       "    .dataframe tbody tr th:only-of-type {\n",
       "        vertical-align: middle;\n",
       "    }\n",
       "\n",
       "    .dataframe tbody tr th {\n",
       "        vertical-align: top;\n",
       "    }\n",
       "\n",
       "    .dataframe thead th {\n",
       "        text-align: right;\n",
       "    }\n",
       "</style>\n",
       "<table border=\"1\" class=\"dataframe\">\n",
       "  <thead>\n",
       "    <tr style=\"text-align: right;\">\n",
       "      <th></th>\n",
       "      <th>Produit_Z_ssal</th>\n",
       "      <th>Exportations_Z_ssal</th>\n",
       "    </tr>\n",
       "  </thead>\n",
       "  <tbody>\n",
       "    <tr>\n",
       "      <th>12</th>\n",
       "      <td>Blé</td>\n",
       "      <td>198380</td>\n",
       "    </tr>\n",
       "    <tr>\n",
       "      <th>52</th>\n",
       "      <td>Maïs</td>\n",
       "      <td>128787</td>\n",
       "    </tr>\n",
       "    <tr>\n",
       "      <th>48</th>\n",
       "      <td>Lait - Excl Beurre</td>\n",
       "      <td>125098</td>\n",
       "    </tr>\n",
       "    <tr>\n",
       "      <th>81</th>\n",
       "      <td>Soja</td>\n",
       "      <td>106912</td>\n",
       "    </tr>\n",
       "    <tr>\n",
       "      <th>83</th>\n",
       "      <td>Sucre Eq Brut</td>\n",
       "      <td>68320</td>\n",
       "    </tr>\n",
       "    <tr>\n",
       "      <th>39</th>\n",
       "      <td>Huile de Palme</td>\n",
       "      <td>50673</td>\n",
       "    </tr>\n",
       "    <tr>\n",
       "      <th>49</th>\n",
       "      <td>Légumes, Autres</td>\n",
       "      <td>44535</td>\n",
       "    </tr>\n",
       "    <tr>\n",
       "      <th>62</th>\n",
       "      <td>Orge</td>\n",
       "      <td>41585</td>\n",
       "    </tr>\n",
       "    <tr>\n",
       "      <th>79</th>\n",
       "      <td>Riz (Eq Blanchi)</td>\n",
       "      <td>41445</td>\n",
       "    </tr>\n",
       "    <tr>\n",
       "      <th>61</th>\n",
       "      <td>Oranges, Mandarines</td>\n",
       "      <td>37489</td>\n",
       "    </tr>\n",
       "    <tr>\n",
       "      <th>51</th>\n",
       "      <td>Manioc</td>\n",
       "      <td>36052</td>\n",
       "    </tr>\n",
       "    <tr>\n",
       "      <th>25</th>\n",
       "      <td>Fruits, Autres</td>\n",
       "      <td>30165</td>\n",
       "    </tr>\n",
       "    <tr>\n",
       "      <th>76</th>\n",
       "      <td>Pommes de Terre</td>\n",
       "      <td>29259</td>\n",
       "    </tr>\n",
       "    <tr>\n",
       "      <th>73</th>\n",
       "      <td>Poissons Pelagiques</td>\n",
       "      <td>23134</td>\n",
       "    </tr>\n",
       "    <tr>\n",
       "      <th>89</th>\n",
       "      <td>Tomates</td>\n",
       "      <td>21987</td>\n",
       "    </tr>\n",
       "  </tbody>\n",
       "</table>\n",
       "</div>"
      ],
      "text/plain": [
       "         Produit_Z_ssal  Exportations_Z_ssal\n",
       "12                  Blé               198380\n",
       "52                 Maïs               128787\n",
       "48   Lait - Excl Beurre               125098\n",
       "81                 Soja               106912\n",
       "83        Sucre Eq Brut                68320\n",
       "39       Huile de Palme                50673\n",
       "49      Légumes, Autres                44535\n",
       "62                 Orge                41585\n",
       "79     Riz (Eq Blanchi)                41445\n",
       "61  Oranges, Mandarines                37489\n",
       "51               Manioc                36052\n",
       "25       Fruits, Autres                30165\n",
       "76      Pommes de Terre                29259\n",
       "73  Poissons Pelagiques                23134\n",
       "89              Tomates                21987"
      ]
     },
     "execution_count": 39,
     "metadata": {},
     "output_type": "execute_result"
    }
   ],
   "source": [
    "#listing des pays concernés par la ss-nutrition selon la FAO et fomatage\n",
    "list_Zone_ssal = df5['Zone'].unique()\n",
    "\n",
    "#Formatage + filtre sur l'année qui nous intéresse ici 2013\n",
    "df5['Valeur'] = df5['Valeur'].replace('<0.1' ,'0.1')\n",
    "df5['Valeur'] = pd.to_numeric(df5['Valeur'])\n",
    "df5_filter_year = df5.groupby(['Année']).get_group(('2012-2014')).reset_index(drop=False).sort_values('Valeur', ascending=0)\n",
    "\n",
    "#intégration de ce df5 filtré au df table + drop [col] inutiles + rename\n",
    "table = pd.merge(table, df5_filter_year, how=\"left\", on=\"Zone\")\n",
    "table = table.drop(['index','Code Domaine', 'Domaine', 'Code zone_y','Code Élément', 'Élément', 'Code Produit_y',\n",
    " 'Produit_y', 'Code année','Année_y', 'Unité', 'Symbole', 'Description du Symbole','Note'], axis=1) \n",
    "table.rename(columns={'Code zone_x':'Code zone','Année_x':'Année','Produit_x':'Produit','Code Produit_x':'Code Produit',\n",
    "'Valeur':'Valeur_sousalx1e6'}, inplace=True)\n",
    "\n",
    "#parcours de la table et relève des 3 informations si pays concerné par sous-nutrition\n",
    "List_pays   = []        \n",
    "List_produit= []\n",
    "List_export = []\n",
    "n = len(table)\n",
    "for i, row in table.iterrows():\n",
    "#on relève la valeur pour chaque ligne de [Zone]\n",
    "    Zone = table.iloc[i,table.columns.get_loc('Zone')]\n",
    "#si valeur dans liste des pays sous-alimentés pécédemment identifiée ...\n",
    "    if Zone in list_Zone_ssal :\n",
    "        pays = table.iloc[i,table.columns.get_loc('Zone')]\n",
    "        List_pays.append(pays)\n",
    "        produit = table.iloc[i,table.columns.get_loc('Produit')]\n",
    "        List_produit.append(produit)\n",
    "        export = table.iloc[i,table.columns.get_loc('Exportations - Quantité')]\n",
    "        List_export.append(export)\n",
    "#création df avec ces 3 Lists\n",
    "df_15produits = pd.DataFrame({'Zone_Z_ssal': List_pays,'Produit_Z_ssal': List_produit,'Exportations_Z_ssal': List_export})\n",
    "#conversion numérique\n",
    "df_15produits['Exportations_Z_ssal'] = pd.to_numeric(df_15produits['Exportations_Z_ssal'])\n",
    "#aggrégation selon Produit & création d'une table résultat\n",
    "df_15prod_agg = df_15produits.groupby(['Produit_Z_ssal']).agg({'Exportations_Z_ssal':np.sum}).reset_index(drop=False)\n",
    "#tri [Exportations_Z_ssal] par ordre décroissant\n",
    "df_15prod_agg_sort = df_15prod_agg.sort_values(['Exportations_Z_ssal'], ascending=0)\n",
    "#affichage des 15 produits les + exportés\n",
    "df_15prod_agg_sort_nLarg = df_15prod_agg_sort.nlargest(15, 'Exportations_Z_ssal')\n",
    "df_15prod_agg_sort_nLarg"
   ]
  },
  {
   "cell_type": "markdown",
   "metadata": {},
   "source": [
    "##### Parmi les données des bilans alimentaires au niveau mondial, sélectionnez les 200 plus grandes importations de ces produits (1 importation = une quantité d'un produit donné importée par un pays donné)\n",
    "##### Groupez ces importations par produit, afin d'avoir une table contenant 1 ligne pour chacun des 15 produits."
   ]
  },
  {
   "cell_type": "code",
   "execution_count": 40,
   "metadata": {
    "ExecuteTime": {
     "end_time": "2021-10-04T09:15:40.558025Z",
     "start_time": "2021-10-04T09:15:38.534318Z"
    }
   },
   "outputs": [
    {
     "data": {
      "text/html": [
       "<div>\n",
       "<style scoped>\n",
       "    .dataframe tbody tr th:only-of-type {\n",
       "        vertical-align: middle;\n",
       "    }\n",
       "\n",
       "    .dataframe tbody tr th {\n",
       "        vertical-align: top;\n",
       "    }\n",
       "\n",
       "    .dataframe thead th {\n",
       "        text-align: right;\n",
       "    }\n",
       "</style>\n",
       "<table border=\"1\" class=\"dataframe\">\n",
       "  <thead>\n",
       "    <tr style=\"text-align: right;\">\n",
       "      <th></th>\n",
       "      <th>Produit_Z_ssal_200</th>\n",
       "      <th>Importations_Z_ssal_200</th>\n",
       "      <th>Use_Z_ssal_200</th>\n",
       "      <th>Disp_Z_ssal_200</th>\n",
       "      <th>Alim_ani_Z_ssal_200</th>\n",
       "      <th>Nourr_Z_ssal_200</th>\n",
       "    </tr>\n",
       "  </thead>\n",
       "  <tbody>\n",
       "    <tr>\n",
       "      <th>0</th>\n",
       "      <td>Blé</td>\n",
       "      <td>146539</td>\n",
       "      <td>14397</td>\n",
       "      <td>447942</td>\n",
       "      <td>95503</td>\n",
       "      <td>296612</td>\n",
       "    </tr>\n",
       "    <tr>\n",
       "      <th>1</th>\n",
       "      <td>Fruits, Autres</td>\n",
       "      <td>15714</td>\n",
       "      <td>0</td>\n",
       "      <td>72851</td>\n",
       "      <td>0</td>\n",
       "      <td>66962</td>\n",
       "    </tr>\n",
       "    <tr>\n",
       "      <th>2</th>\n",
       "      <td>Huile de Palme</td>\n",
       "      <td>29747</td>\n",
       "      <td>18568</td>\n",
       "      <td>25618</td>\n",
       "      <td>0</td>\n",
       "      <td>6833</td>\n",
       "    </tr>\n",
       "    <tr>\n",
       "      <th>3</th>\n",
       "      <td>Lait - Excl Beurre</td>\n",
       "      <td>87377</td>\n",
       "      <td>12337</td>\n",
       "      <td>341118</td>\n",
       "      <td>27211</td>\n",
       "      <td>298843</td>\n",
       "    </tr>\n",
       "    <tr>\n",
       "      <th>4</th>\n",
       "      <td>Légumes, Autres</td>\n",
       "      <td>27116</td>\n",
       "      <td>0</td>\n",
       "      <td>79708</td>\n",
       "      <td>3428</td>\n",
       "      <td>69830</td>\n",
       "    </tr>\n",
       "    <tr>\n",
       "      <th>5</th>\n",
       "      <td>Manioc</td>\n",
       "      <td>34655</td>\n",
       "      <td>20355</td>\n",
       "      <td>67326</td>\n",
       "      <td>25149</td>\n",
       "      <td>15257</td>\n",
       "    </tr>\n",
       "    <tr>\n",
       "      <th>6</th>\n",
       "      <td>Maïs</td>\n",
       "      <td>101416</td>\n",
       "      <td>181868</td>\n",
       "      <td>687785</td>\n",
       "      <td>392162</td>\n",
       "      <td>55251</td>\n",
       "    </tr>\n",
       "    <tr>\n",
       "      <th>7</th>\n",
       "      <td>Oranges, Mandarines</td>\n",
       "      <td>22945</td>\n",
       "      <td>1</td>\n",
       "      <td>19534</td>\n",
       "      <td>0</td>\n",
       "      <td>19192</td>\n",
       "    </tr>\n",
       "    <tr>\n",
       "      <th>8</th>\n",
       "      <td>Orge</td>\n",
       "      <td>22387</td>\n",
       "      <td>12</td>\n",
       "      <td>29473</td>\n",
       "      <td>20153</td>\n",
       "      <td>338</td>\n",
       "    </tr>\n",
       "    <tr>\n",
       "      <th>9</th>\n",
       "      <td>Poissons Pelagiques</td>\n",
       "      <td>13445</td>\n",
       "      <td>0</td>\n",
       "      <td>16094</td>\n",
       "      <td>12156</td>\n",
       "      <td>3937</td>\n",
       "    </tr>\n",
       "    <tr>\n",
       "      <th>10</th>\n",
       "      <td>Pommes de Terre</td>\n",
       "      <td>16895</td>\n",
       "      <td>3427</td>\n",
       "      <td>52519</td>\n",
       "      <td>1974</td>\n",
       "      <td>39435</td>\n",
       "    </tr>\n",
       "    <tr>\n",
       "      <th>11</th>\n",
       "      <td>Riz (Eq Blanchi)</td>\n",
       "      <td>12911</td>\n",
       "      <td>2533</td>\n",
       "      <td>147352</td>\n",
       "      <td>12592</td>\n",
       "      <td>120417</td>\n",
       "    </tr>\n",
       "    <tr>\n",
       "      <th>12</th>\n",
       "      <td>Soja</td>\n",
       "      <td>93455</td>\n",
       "      <td>524</td>\n",
       "      <td>159570</td>\n",
       "      <td>13710</td>\n",
       "      <td>7510</td>\n",
       "    </tr>\n",
       "    <tr>\n",
       "      <th>13</th>\n",
       "      <td>Sucre Eq Brut</td>\n",
       "      <td>34208</td>\n",
       "      <td>2996</td>\n",
       "      <td>78453</td>\n",
       "      <td>0</td>\n",
       "      <td>64971</td>\n",
       "    </tr>\n",
       "    <tr>\n",
       "      <th>14</th>\n",
       "      <td>Tomates</td>\n",
       "      <td>7143</td>\n",
       "      <td>0</td>\n",
       "      <td>21277</td>\n",
       "      <td>0</td>\n",
       "      <td>20252</td>\n",
       "    </tr>\n",
       "  </tbody>\n",
       "</table>\n",
       "</div>"
      ],
      "text/plain": [
       "     Produit_Z_ssal_200  Importations_Z_ssal_200  Use_Z_ssal_200  \\\n",
       "0                   Blé                   146539           14397   \n",
       "1        Fruits, Autres                    15714               0   \n",
       "2        Huile de Palme                    29747           18568   \n",
       "3    Lait - Excl Beurre                    87377           12337   \n",
       "4       Légumes, Autres                    27116               0   \n",
       "5                Manioc                    34655           20355   \n",
       "6                  Maïs                   101416          181868   \n",
       "7   Oranges, Mandarines                    22945               1   \n",
       "8                  Orge                    22387              12   \n",
       "9   Poissons Pelagiques                    13445               0   \n",
       "10      Pommes de Terre                    16895            3427   \n",
       "11     Riz (Eq Blanchi)                    12911            2533   \n",
       "12                 Soja                    93455             524   \n",
       "13        Sucre Eq Brut                    34208            2996   \n",
       "14              Tomates                     7143               0   \n",
       "\n",
       "    Disp_Z_ssal_200  Alim_ani_Z_ssal_200  Nourr_Z_ssal_200  \n",
       "0            447942                95503            296612  \n",
       "1             72851                    0             66962  \n",
       "2             25618                    0              6833  \n",
       "3            341118                27211            298843  \n",
       "4             79708                 3428             69830  \n",
       "5             67326                25149             15257  \n",
       "6            687785               392162             55251  \n",
       "7             19534                    0             19192  \n",
       "8             29473                20153               338  \n",
       "9             16094                12156              3937  \n",
       "10            52519                 1974             39435  \n",
       "11           147352                12592            120417  \n",
       "12           159570                13710              7510  \n",
       "13            78453                    0             64971  \n",
       "14            21277                    0             20252  "
      ]
     },
     "execution_count": 40,
     "metadata": {},
     "output_type": "execute_result"
    }
   ],
   "source": [
    "#extraction des 15 first values & création liste\n",
    "les_15 = list(df_15prod_agg_sort_nLarg[\"Produit_Z_ssal\"])[:15]\n",
    "# print (les_15)\n",
    "\n",
    "#parcours de la table et relève des informations suivantes\n",
    "List_pays   = []        \n",
    "List_produit= []\n",
    "List_import = []\n",
    "List_other_use = []\n",
    "List_disp_int = []\n",
    "List_alimts_animx = []\n",
    "List_nourrit = []\n",
    "\n",
    "n = len(table)\n",
    "for i, row in table.iterrows():\n",
    "#on relève la valeur pour chaque ligne de [Zone]\n",
    "    Prod = table.iloc[i,table.columns.get_loc('Produit')]\n",
    "#si valeur dans liste des 15 produits pécédemment identifiée ...dans le df principal\n",
    "    if (Prod in les_15) :\n",
    "        pays = table.iloc[i,table.columns.get_loc('Zone')]\n",
    "        List_pays.append(pays)\n",
    "        produit = table.iloc[i,table.columns.get_loc('Produit')]\n",
    "        List_produit.append(produit)\n",
    "        Import = table.iloc[i,table.columns.get_loc('Importations - Quantité')]\n",
    "        List_import.append(Import)\n",
    "        other_use = table.iloc[i,table.columns.get_loc('Autres utilisations (non alimentaire)')]\n",
    "        List_other_use.append(other_use)\n",
    "        disp_int = table.iloc[i,table.columns.get_loc('Disponibilité intérieure')]\n",
    "        List_disp_int.append(disp_int)\n",
    "        alimts_animx = table.iloc[i,table.columns.get_loc('Aliments pour animaux')]\n",
    "        List_alimts_animx.append(alimts_animx)\n",
    "        nourrit = table.iloc[i,table.columns.get_loc('Nourriture')]\n",
    "        List_nourrit.append(nourrit)      \n",
    "#création df avec ces Lists\n",
    "a = pd.DataFrame({'Zone_Z_ssal_200': List_pays,'Produit_Z_ssal_200': List_produit,'Importations_Z_ssal_200': List_import,'Use_Z_ssal_200': List_other_use,'Disp_Z_ssal_200': List_disp_int,'Alim_ani_Z_ssal_200': List_alimts_animx,'Nourr_Z_ssal_200': List_nourrit})\n",
    "#tri des 200 importations par ordre décroissant\n",
    "b = a.sort_values(['Importations_Z_ssal_200'], ascending=0)[0:200]\n",
    "#aggrégation selon produit & création d'une table résultat contenant les 15 produits identifiés \n",
    "c = b.groupby(['Produit_Z_ssal_200']).agg({'Importations_Z_ssal_200':np.sum,\n",
    "                                               'Use_Z_ssal_200':np.sum,\n",
    "                                                  'Disp_Z_ssal_200':np.sum,\n",
    "                                                     'Alim_ani_Z_ssal_200':np.sum,\n",
    "                                                       'Nourr_Z_ssal_200':np.sum}).reset_index(drop=False)\n",
    "c"
   ]
  },
  {
   "cell_type": "markdown",
   "metadata": {},
   "source": [
    "##### Ratio entre quantité destinée aux Autres utilisations et Disponibilité intérieure\n"
   ]
  },
  {
   "cell_type": "code",
   "execution_count": 41,
   "metadata": {
    "ExecuteTime": {
     "end_time": "2021-10-04T09:15:40.593053Z",
     "start_time": "2021-10-04T09:15:40.560021Z"
    }
   },
   "outputs": [
    {
     "data": {
      "text/html": [
       "<div>\n",
       "<style scoped>\n",
       "    .dataframe tbody tr th:only-of-type {\n",
       "        vertical-align: middle;\n",
       "    }\n",
       "\n",
       "    .dataframe tbody tr th {\n",
       "        vertical-align: top;\n",
       "    }\n",
       "\n",
       "    .dataframe thead th {\n",
       "        text-align: right;\n",
       "    }\n",
       "</style>\n",
       "<table border=\"1\" class=\"dataframe\">\n",
       "  <thead>\n",
       "    <tr style=\"text-align: right;\">\n",
       "      <th></th>\n",
       "      <th>Produit_Z_ssal_200</th>\n",
       "      <th>Importations_Z_ssal_200</th>\n",
       "      <th>Use_Z_ssal_200</th>\n",
       "      <th>Disp_Z_ssal_200</th>\n",
       "      <th>Alim_ani_Z_ssal_200</th>\n",
       "      <th>Nourr_Z_ssal_200</th>\n",
       "      <th>OtherUse_v_Disp</th>\n",
       "    </tr>\n",
       "  </thead>\n",
       "  <tbody>\n",
       "    <tr>\n",
       "      <th>0</th>\n",
       "      <td>Blé</td>\n",
       "      <td>146539</td>\n",
       "      <td>14397</td>\n",
       "      <td>447942</td>\n",
       "      <td>95503</td>\n",
       "      <td>296612</td>\n",
       "      <td>3.2</td>\n",
       "    </tr>\n",
       "    <tr>\n",
       "      <th>1</th>\n",
       "      <td>Fruits, Autres</td>\n",
       "      <td>15714</td>\n",
       "      <td>0</td>\n",
       "      <td>72851</td>\n",
       "      <td>0</td>\n",
       "      <td>66962</td>\n",
       "      <td>0.0</td>\n",
       "    </tr>\n",
       "    <tr>\n",
       "      <th>2</th>\n",
       "      <td>Huile de Palme</td>\n",
       "      <td>29747</td>\n",
       "      <td>18568</td>\n",
       "      <td>25618</td>\n",
       "      <td>0</td>\n",
       "      <td>6833</td>\n",
       "      <td>72.5</td>\n",
       "    </tr>\n",
       "    <tr>\n",
       "      <th>3</th>\n",
       "      <td>Lait - Excl Beurre</td>\n",
       "      <td>87377</td>\n",
       "      <td>12337</td>\n",
       "      <td>341118</td>\n",
       "      <td>27211</td>\n",
       "      <td>298843</td>\n",
       "      <td>3.6</td>\n",
       "    </tr>\n",
       "    <tr>\n",
       "      <th>4</th>\n",
       "      <td>Légumes, Autres</td>\n",
       "      <td>27116</td>\n",
       "      <td>0</td>\n",
       "      <td>79708</td>\n",
       "      <td>3428</td>\n",
       "      <td>69830</td>\n",
       "      <td>0.0</td>\n",
       "    </tr>\n",
       "    <tr>\n",
       "      <th>5</th>\n",
       "      <td>Manioc</td>\n",
       "      <td>34655</td>\n",
       "      <td>20355</td>\n",
       "      <td>67326</td>\n",
       "      <td>25149</td>\n",
       "      <td>15257</td>\n",
       "      <td>30.2</td>\n",
       "    </tr>\n",
       "    <tr>\n",
       "      <th>6</th>\n",
       "      <td>Maïs</td>\n",
       "      <td>101416</td>\n",
       "      <td>181868</td>\n",
       "      <td>687785</td>\n",
       "      <td>392162</td>\n",
       "      <td>55251</td>\n",
       "      <td>26.4</td>\n",
       "    </tr>\n",
       "    <tr>\n",
       "      <th>7</th>\n",
       "      <td>Oranges, Mandarines</td>\n",
       "      <td>22945</td>\n",
       "      <td>1</td>\n",
       "      <td>19534</td>\n",
       "      <td>0</td>\n",
       "      <td>19192</td>\n",
       "      <td>0.0</td>\n",
       "    </tr>\n",
       "    <tr>\n",
       "      <th>8</th>\n",
       "      <td>Orge</td>\n",
       "      <td>22387</td>\n",
       "      <td>12</td>\n",
       "      <td>29473</td>\n",
       "      <td>20153</td>\n",
       "      <td>338</td>\n",
       "      <td>0.0</td>\n",
       "    </tr>\n",
       "    <tr>\n",
       "      <th>9</th>\n",
       "      <td>Poissons Pelagiques</td>\n",
       "      <td>13445</td>\n",
       "      <td>0</td>\n",
       "      <td>16094</td>\n",
       "      <td>12156</td>\n",
       "      <td>3937</td>\n",
       "      <td>0.0</td>\n",
       "    </tr>\n",
       "    <tr>\n",
       "      <th>10</th>\n",
       "      <td>Pommes de Terre</td>\n",
       "      <td>16895</td>\n",
       "      <td>3427</td>\n",
       "      <td>52519</td>\n",
       "      <td>1974</td>\n",
       "      <td>39435</td>\n",
       "      <td>6.5</td>\n",
       "    </tr>\n",
       "    <tr>\n",
       "      <th>11</th>\n",
       "      <td>Riz (Eq Blanchi)</td>\n",
       "      <td>12911</td>\n",
       "      <td>2533</td>\n",
       "      <td>147352</td>\n",
       "      <td>12592</td>\n",
       "      <td>120417</td>\n",
       "      <td>1.7</td>\n",
       "    </tr>\n",
       "    <tr>\n",
       "      <th>12</th>\n",
       "      <td>Soja</td>\n",
       "      <td>93455</td>\n",
       "      <td>524</td>\n",
       "      <td>159570</td>\n",
       "      <td>13710</td>\n",
       "      <td>7510</td>\n",
       "      <td>0.3</td>\n",
       "    </tr>\n",
       "    <tr>\n",
       "      <th>13</th>\n",
       "      <td>Sucre Eq Brut</td>\n",
       "      <td>34208</td>\n",
       "      <td>2996</td>\n",
       "      <td>78453</td>\n",
       "      <td>0</td>\n",
       "      <td>64971</td>\n",
       "      <td>3.8</td>\n",
       "    </tr>\n",
       "    <tr>\n",
       "      <th>14</th>\n",
       "      <td>Tomates</td>\n",
       "      <td>7143</td>\n",
       "      <td>0</td>\n",
       "      <td>21277</td>\n",
       "      <td>0</td>\n",
       "      <td>20252</td>\n",
       "      <td>0.0</td>\n",
       "    </tr>\n",
       "  </tbody>\n",
       "</table>\n",
       "</div>"
      ],
      "text/plain": [
       "     Produit_Z_ssal_200  Importations_Z_ssal_200  Use_Z_ssal_200  \\\n",
       "0                   Blé                   146539           14397   \n",
       "1        Fruits, Autres                    15714               0   \n",
       "2        Huile de Palme                    29747           18568   \n",
       "3    Lait - Excl Beurre                    87377           12337   \n",
       "4       Légumes, Autres                    27116               0   \n",
       "5                Manioc                    34655           20355   \n",
       "6                  Maïs                   101416          181868   \n",
       "7   Oranges, Mandarines                    22945               1   \n",
       "8                  Orge                    22387              12   \n",
       "9   Poissons Pelagiques                    13445               0   \n",
       "10      Pommes de Terre                    16895            3427   \n",
       "11     Riz (Eq Blanchi)                    12911            2533   \n",
       "12                 Soja                    93455             524   \n",
       "13        Sucre Eq Brut                    34208            2996   \n",
       "14              Tomates                     7143               0   \n",
       "\n",
       "    Disp_Z_ssal_200  Alim_ani_Z_ssal_200  Nourr_Z_ssal_200 OtherUse_v_Disp  \n",
       "0            447942                95503            296612             3.2  \n",
       "1             72851                    0             66962             0.0  \n",
       "2             25618                    0              6833            72.5  \n",
       "3            341118                27211            298843             3.6  \n",
       "4             79708                 3428             69830             0.0  \n",
       "5             67326                25149             15257            30.2  \n",
       "6            687785               392162             55251            26.4  \n",
       "7             19534                    0             19192             0.0  \n",
       "8             29473                20153               338             0.0  \n",
       "9             16094                12156              3937             0.0  \n",
       "10            52519                 1974             39435             6.5  \n",
       "11           147352                12592            120417             1.7  \n",
       "12           159570                13710              7510             0.3  \n",
       "13            78453                    0             64971             3.8  \n",
       "14            21277                    0             20252             0.0  "
      ]
     },
     "execution_count": 41,
     "metadata": {},
     "output_type": "execute_result"
    }
   ],
   "source": [
    "n = len(c)\n",
    "for i, row in c.iterrows():\n",
    "#création [] contenant le ratio [Use] / [Dispo int] pour les 15 produits\n",
    "        c.loc[i,'OtherUse_v_Disp'] = 100*(c.iloc[i,c.columns.get_loc('Use_Z_ssal_200')]/c.iloc[i,c.columns.get_loc('Disp_Z_ssal_200')])\n",
    "#formatage du ratio\n",
    "c['OtherUse_v_Disp'] = c['OtherUse_v_Disp'].apply(lambda x: \"{:.1f}\".format(x) if not pd.isnull(x) else x)\n",
    "c"
   ]
  },
  {
   "cell_type": "markdown",
   "metadata": {
    "ExecuteTime": {
     "end_time": "2020-12-31T12:01:14.769716Z",
     "start_time": "2020-12-31T12:01:14.749798Z"
    }
   },
   "source": [
    "##### Ratio entre quantité destinée à la Nourriture animale et quantité destinée à la Nourriture (animale + humaine)"
   ]
  },
  {
   "cell_type": "code",
   "execution_count": 42,
   "metadata": {
    "ExecuteTime": {
     "end_time": "2021-10-04T09:15:40.640926Z",
     "start_time": "2021-10-04T09:15:40.596047Z"
    }
   },
   "outputs": [
    {
     "data": {
      "text/html": [
       "<div>\n",
       "<style scoped>\n",
       "    .dataframe tbody tr th:only-of-type {\n",
       "        vertical-align: middle;\n",
       "    }\n",
       "\n",
       "    .dataframe tbody tr th {\n",
       "        vertical-align: top;\n",
       "    }\n",
       "\n",
       "    .dataframe thead th {\n",
       "        text-align: right;\n",
       "    }\n",
       "</style>\n",
       "<table border=\"1\" class=\"dataframe\">\n",
       "  <thead>\n",
       "    <tr style=\"text-align: right;\">\n",
       "      <th></th>\n",
       "      <th>Produit_Z_ssal_200</th>\n",
       "      <th>Importations_Z_ssal_200</th>\n",
       "      <th>Use_Z_ssal_200</th>\n",
       "      <th>Disp_Z_ssal_200</th>\n",
       "      <th>Alim_ani_Z_ssal_200</th>\n",
       "      <th>Nourr_Z_ssal_200</th>\n",
       "      <th>OtherUse_v_Disp</th>\n",
       "      <th>Alim_v_Nourriture</th>\n",
       "    </tr>\n",
       "  </thead>\n",
       "  <tbody>\n",
       "    <tr>\n",
       "      <th>0</th>\n",
       "      <td>Blé</td>\n",
       "      <td>146539</td>\n",
       "      <td>14397</td>\n",
       "      <td>447942</td>\n",
       "      <td>95503</td>\n",
       "      <td>296612</td>\n",
       "      <td>3.2</td>\n",
       "      <td>24.4</td>\n",
       "    </tr>\n",
       "    <tr>\n",
       "      <th>1</th>\n",
       "      <td>Fruits, Autres</td>\n",
       "      <td>15714</td>\n",
       "      <td>0</td>\n",
       "      <td>72851</td>\n",
       "      <td>0</td>\n",
       "      <td>66962</td>\n",
       "      <td>0.0</td>\n",
       "      <td>0.0</td>\n",
       "    </tr>\n",
       "    <tr>\n",
       "      <th>2</th>\n",
       "      <td>Huile de Palme</td>\n",
       "      <td>29747</td>\n",
       "      <td>18568</td>\n",
       "      <td>25618</td>\n",
       "      <td>0</td>\n",
       "      <td>6833</td>\n",
       "      <td>72.5</td>\n",
       "      <td>0.0</td>\n",
       "    </tr>\n",
       "    <tr>\n",
       "      <th>3</th>\n",
       "      <td>Lait - Excl Beurre</td>\n",
       "      <td>87377</td>\n",
       "      <td>12337</td>\n",
       "      <td>341118</td>\n",
       "      <td>27211</td>\n",
       "      <td>298843</td>\n",
       "      <td>3.6</td>\n",
       "      <td>8.3</td>\n",
       "    </tr>\n",
       "    <tr>\n",
       "      <th>4</th>\n",
       "      <td>Légumes, Autres</td>\n",
       "      <td>27116</td>\n",
       "      <td>0</td>\n",
       "      <td>79708</td>\n",
       "      <td>3428</td>\n",
       "      <td>69830</td>\n",
       "      <td>0.0</td>\n",
       "      <td>4.7</td>\n",
       "    </tr>\n",
       "    <tr>\n",
       "      <th>5</th>\n",
       "      <td>Manioc</td>\n",
       "      <td>34655</td>\n",
       "      <td>20355</td>\n",
       "      <td>67326</td>\n",
       "      <td>25149</td>\n",
       "      <td>15257</td>\n",
       "      <td>30.2</td>\n",
       "      <td>62.2</td>\n",
       "    </tr>\n",
       "    <tr>\n",
       "      <th>6</th>\n",
       "      <td>Maïs</td>\n",
       "      <td>101416</td>\n",
       "      <td>181868</td>\n",
       "      <td>687785</td>\n",
       "      <td>392162</td>\n",
       "      <td>55251</td>\n",
       "      <td>26.4</td>\n",
       "      <td>87.7</td>\n",
       "    </tr>\n",
       "    <tr>\n",
       "      <th>7</th>\n",
       "      <td>Oranges, Mandarines</td>\n",
       "      <td>22945</td>\n",
       "      <td>1</td>\n",
       "      <td>19534</td>\n",
       "      <td>0</td>\n",
       "      <td>19192</td>\n",
       "      <td>0.0</td>\n",
       "      <td>0.0</td>\n",
       "    </tr>\n",
       "    <tr>\n",
       "      <th>8</th>\n",
       "      <td>Orge</td>\n",
       "      <td>22387</td>\n",
       "      <td>12</td>\n",
       "      <td>29473</td>\n",
       "      <td>20153</td>\n",
       "      <td>338</td>\n",
       "      <td>0.0</td>\n",
       "      <td>98.4</td>\n",
       "    </tr>\n",
       "    <tr>\n",
       "      <th>9</th>\n",
       "      <td>Poissons Pelagiques</td>\n",
       "      <td>13445</td>\n",
       "      <td>0</td>\n",
       "      <td>16094</td>\n",
       "      <td>12156</td>\n",
       "      <td>3937</td>\n",
       "      <td>0.0</td>\n",
       "      <td>75.5</td>\n",
       "    </tr>\n",
       "    <tr>\n",
       "      <th>10</th>\n",
       "      <td>Pommes de Terre</td>\n",
       "      <td>16895</td>\n",
       "      <td>3427</td>\n",
       "      <td>52519</td>\n",
       "      <td>1974</td>\n",
       "      <td>39435</td>\n",
       "      <td>6.5</td>\n",
       "      <td>4.8</td>\n",
       "    </tr>\n",
       "    <tr>\n",
       "      <th>11</th>\n",
       "      <td>Riz (Eq Blanchi)</td>\n",
       "      <td>12911</td>\n",
       "      <td>2533</td>\n",
       "      <td>147352</td>\n",
       "      <td>12592</td>\n",
       "      <td>120417</td>\n",
       "      <td>1.7</td>\n",
       "      <td>9.5</td>\n",
       "    </tr>\n",
       "    <tr>\n",
       "      <th>12</th>\n",
       "      <td>Soja</td>\n",
       "      <td>93455</td>\n",
       "      <td>524</td>\n",
       "      <td>159570</td>\n",
       "      <td>13710</td>\n",
       "      <td>7510</td>\n",
       "      <td>0.3</td>\n",
       "      <td>64.6</td>\n",
       "    </tr>\n",
       "    <tr>\n",
       "      <th>13</th>\n",
       "      <td>Sucre Eq Brut</td>\n",
       "      <td>34208</td>\n",
       "      <td>2996</td>\n",
       "      <td>78453</td>\n",
       "      <td>0</td>\n",
       "      <td>64971</td>\n",
       "      <td>3.8</td>\n",
       "      <td>0.0</td>\n",
       "    </tr>\n",
       "    <tr>\n",
       "      <th>14</th>\n",
       "      <td>Tomates</td>\n",
       "      <td>7143</td>\n",
       "      <td>0</td>\n",
       "      <td>21277</td>\n",
       "      <td>0</td>\n",
       "      <td>20252</td>\n",
       "      <td>0.0</td>\n",
       "      <td>0.0</td>\n",
       "    </tr>\n",
       "  </tbody>\n",
       "</table>\n",
       "</div>"
      ],
      "text/plain": [
       "     Produit_Z_ssal_200  Importations_Z_ssal_200  Use_Z_ssal_200  \\\n",
       "0                   Blé                   146539           14397   \n",
       "1        Fruits, Autres                    15714               0   \n",
       "2        Huile de Palme                    29747           18568   \n",
       "3    Lait - Excl Beurre                    87377           12337   \n",
       "4       Légumes, Autres                    27116               0   \n",
       "5                Manioc                    34655           20355   \n",
       "6                  Maïs                   101416          181868   \n",
       "7   Oranges, Mandarines                    22945               1   \n",
       "8                  Orge                    22387              12   \n",
       "9   Poissons Pelagiques                    13445               0   \n",
       "10      Pommes de Terre                    16895            3427   \n",
       "11     Riz (Eq Blanchi)                    12911            2533   \n",
       "12                 Soja                    93455             524   \n",
       "13        Sucre Eq Brut                    34208            2996   \n",
       "14              Tomates                     7143               0   \n",
       "\n",
       "    Disp_Z_ssal_200  Alim_ani_Z_ssal_200  Nourr_Z_ssal_200 OtherUse_v_Disp  \\\n",
       "0            447942                95503            296612             3.2   \n",
       "1             72851                    0             66962             0.0   \n",
       "2             25618                    0              6833            72.5   \n",
       "3            341118                27211            298843             3.6   \n",
       "4             79708                 3428             69830             0.0   \n",
       "5             67326                25149             15257            30.2   \n",
       "6            687785               392162             55251            26.4   \n",
       "7             19534                    0             19192             0.0   \n",
       "8             29473                20153               338             0.0   \n",
       "9             16094                12156              3937             0.0   \n",
       "10            52519                 1974             39435             6.5   \n",
       "11           147352                12592            120417             1.7   \n",
       "12           159570                13710              7510             0.3   \n",
       "13            78453                    0             64971             3.8   \n",
       "14            21277                    0             20252             0.0   \n",
       "\n",
       "   Alim_v_Nourriture  \n",
       "0               24.4  \n",
       "1                0.0  \n",
       "2                0.0  \n",
       "3                8.3  \n",
       "4                4.7  \n",
       "5               62.2  \n",
       "6               87.7  \n",
       "7                0.0  \n",
       "8               98.4  \n",
       "9               75.5  \n",
       "10               4.8  \n",
       "11               9.5  \n",
       "12              64.6  \n",
       "13               0.0  \n",
       "14               0.0  "
      ]
     },
     "execution_count": 42,
     "metadata": {},
     "output_type": "execute_result"
    }
   ],
   "source": [
    "n = len(c)\n",
    "for i, row in c.iterrows():\n",
    "#création [] contenant le ratio [Aliments_animaux] / [Nourriture] pour les 15 produits\n",
    "        c.loc[i,'Alim_v_Nourriture'] = 100*(c.iloc[i,c.columns.get_loc('Alim_ani_Z_ssal_200')]/(c.iloc[i,c.columns.get_loc('Alim_ani_Z_ssal_200')]+c.iloc[i,c.columns.get_loc('Nourr_Z_ssal_200')]))\n",
    "#formatage du ratio\n",
    "c['Alim_v_Nourriture'] = c['Alim_v_Nourriture'].apply(lambda x: \"{:.1f}\".format(x) if not pd.isnull(x) else x)\n",
    "c"
   ]
  },
  {
   "cell_type": "markdown",
   "metadata": {},
   "source": [
    "### Question 12 : Donnez les 3 produits qui ont la plus grande valeur pour chacun des 2 ratios (vous aurez donc 6 produits à citer)"
   ]
  },
  {
   "cell_type": "code",
   "execution_count": 43,
   "metadata": {
    "ExecuteTime": {
     "end_time": "2021-10-04T09:15:40.677003Z",
     "start_time": "2021-10-04T09:15:40.643919Z"
    }
   },
   "outputs": [
    {
     "name": "stdout",
     "output_type": "stream",
     "text": [
      "['Huile de Palme', 'Manioc', 'Maïs']\n"
     ]
    },
    {
     "data": {
      "text/html": [
       "<div>\n",
       "<style scoped>\n",
       "    .dataframe tbody tr th:only-of-type {\n",
       "        vertical-align: middle;\n",
       "    }\n",
       "\n",
       "    .dataframe tbody tr th {\n",
       "        vertical-align: top;\n",
       "    }\n",
       "\n",
       "    .dataframe thead th {\n",
       "        text-align: right;\n",
       "    }\n",
       "</style>\n",
       "<table border=\"1\" class=\"dataframe\">\n",
       "  <thead>\n",
       "    <tr style=\"text-align: right;\">\n",
       "      <th></th>\n",
       "      <th>Produit_Z_ssal_200</th>\n",
       "      <th>Importations_Z_ssal_200</th>\n",
       "      <th>Use_Z_ssal_200</th>\n",
       "      <th>Disp_Z_ssal_200</th>\n",
       "      <th>Alim_ani_Z_ssal_200</th>\n",
       "      <th>Nourr_Z_ssal_200</th>\n",
       "      <th>OtherUse_v_Disp</th>\n",
       "      <th>Alim_v_Nourriture</th>\n",
       "    </tr>\n",
       "  </thead>\n",
       "  <tbody>\n",
       "    <tr>\n",
       "      <th>2</th>\n",
       "      <td>Huile de Palme</td>\n",
       "      <td>29747</td>\n",
       "      <td>18568</td>\n",
       "      <td>25618</td>\n",
       "      <td>0</td>\n",
       "      <td>6833</td>\n",
       "      <td>72.5</td>\n",
       "      <td>0.0</td>\n",
       "    </tr>\n",
       "    <tr>\n",
       "      <th>5</th>\n",
       "      <td>Manioc</td>\n",
       "      <td>34655</td>\n",
       "      <td>20355</td>\n",
       "      <td>67326</td>\n",
       "      <td>25149</td>\n",
       "      <td>15257</td>\n",
       "      <td>30.2</td>\n",
       "      <td>62.2</td>\n",
       "    </tr>\n",
       "    <tr>\n",
       "      <th>6</th>\n",
       "      <td>Maïs</td>\n",
       "      <td>101416</td>\n",
       "      <td>181868</td>\n",
       "      <td>687785</td>\n",
       "      <td>392162</td>\n",
       "      <td>55251</td>\n",
       "      <td>26.4</td>\n",
       "      <td>87.7</td>\n",
       "    </tr>\n",
       "  </tbody>\n",
       "</table>\n",
       "</div>"
      ],
      "text/plain": [
       "  Produit_Z_ssal_200  Importations_Z_ssal_200  Use_Z_ssal_200  \\\n",
       "2     Huile de Palme                    29747           18568   \n",
       "5             Manioc                    34655           20355   \n",
       "6               Maïs                   101416          181868   \n",
       "\n",
       "   Disp_Z_ssal_200  Alim_ani_Z_ssal_200  Nourr_Z_ssal_200  OtherUse_v_Disp  \\\n",
       "2            25618                    0              6833             72.5   \n",
       "5            67326                25149             15257             30.2   \n",
       "6           687785               392162             55251             26.4   \n",
       "\n",
       "  Alim_v_Nourriture  \n",
       "2               0.0  \n",
       "5              62.2  \n",
       "6              87.7  "
      ]
     },
     "execution_count": 43,
     "metadata": {},
     "output_type": "execute_result"
    }
   ],
   "source": [
    "#conversion numérique\n",
    "c['OtherUse_v_Disp'] = pd.to_numeric(c['OtherUse_v_Disp'])\n",
    "#affichage des 3 produits via liste\n",
    "print(c.nlargest(3, 'OtherUse_v_Disp')['Produit_Z_ssal_200'].tolist())\n",
    "#affichage des 3 produits via df\n",
    "c_top3_ratio1 = c.nlargest(3, 'OtherUse_v_Disp')\n",
    "c_top3_ratio1"
   ]
  },
  {
   "cell_type": "code",
   "execution_count": 44,
   "metadata": {
    "ExecuteTime": {
     "end_time": "2021-10-04T09:15:40.708918Z",
     "start_time": "2021-10-04T09:15:40.678999Z"
    }
   },
   "outputs": [
    {
     "name": "stdout",
     "output_type": "stream",
     "text": [
      "['Orge', 'Maïs', 'Poissons Pelagiques']\n"
     ]
    },
    {
     "data": {
      "text/html": [
       "<div>\n",
       "<style scoped>\n",
       "    .dataframe tbody tr th:only-of-type {\n",
       "        vertical-align: middle;\n",
       "    }\n",
       "\n",
       "    .dataframe tbody tr th {\n",
       "        vertical-align: top;\n",
       "    }\n",
       "\n",
       "    .dataframe thead th {\n",
       "        text-align: right;\n",
       "    }\n",
       "</style>\n",
       "<table border=\"1\" class=\"dataframe\">\n",
       "  <thead>\n",
       "    <tr style=\"text-align: right;\">\n",
       "      <th></th>\n",
       "      <th>Produit_Z_ssal_200</th>\n",
       "      <th>Importations_Z_ssal_200</th>\n",
       "      <th>Use_Z_ssal_200</th>\n",
       "      <th>Disp_Z_ssal_200</th>\n",
       "      <th>Alim_ani_Z_ssal_200</th>\n",
       "      <th>Nourr_Z_ssal_200</th>\n",
       "      <th>OtherUse_v_Disp</th>\n",
       "      <th>Alim_v_Nourriture</th>\n",
       "    </tr>\n",
       "  </thead>\n",
       "  <tbody>\n",
       "    <tr>\n",
       "      <th>8</th>\n",
       "      <td>Orge</td>\n",
       "      <td>22387</td>\n",
       "      <td>12</td>\n",
       "      <td>29473</td>\n",
       "      <td>20153</td>\n",
       "      <td>338</td>\n",
       "      <td>0.0</td>\n",
       "      <td>98.4</td>\n",
       "    </tr>\n",
       "    <tr>\n",
       "      <th>6</th>\n",
       "      <td>Maïs</td>\n",
       "      <td>101416</td>\n",
       "      <td>181868</td>\n",
       "      <td>687785</td>\n",
       "      <td>392162</td>\n",
       "      <td>55251</td>\n",
       "      <td>26.4</td>\n",
       "      <td>87.7</td>\n",
       "    </tr>\n",
       "    <tr>\n",
       "      <th>9</th>\n",
       "      <td>Poissons Pelagiques</td>\n",
       "      <td>13445</td>\n",
       "      <td>0</td>\n",
       "      <td>16094</td>\n",
       "      <td>12156</td>\n",
       "      <td>3937</td>\n",
       "      <td>0.0</td>\n",
       "      <td>75.5</td>\n",
       "    </tr>\n",
       "  </tbody>\n",
       "</table>\n",
       "</div>"
      ],
      "text/plain": [
       "    Produit_Z_ssal_200  Importations_Z_ssal_200  Use_Z_ssal_200  \\\n",
       "8                 Orge                    22387              12   \n",
       "6                 Maïs                   101416          181868   \n",
       "9  Poissons Pelagiques                    13445               0   \n",
       "\n",
       "   Disp_Z_ssal_200  Alim_ani_Z_ssal_200  Nourr_Z_ssal_200  OtherUse_v_Disp  \\\n",
       "8            29473                20153               338              0.0   \n",
       "6           687785               392162             55251             26.4   \n",
       "9            16094                12156              3937              0.0   \n",
       "\n",
       "   Alim_v_Nourriture  \n",
       "8               98.4  \n",
       "6               87.7  \n",
       "9               75.5  "
      ]
     },
     "execution_count": 44,
     "metadata": {},
     "output_type": "execute_result"
    }
   ],
   "source": [
    "#conversion numérique\n",
    "c['Alim_v_Nourriture'] = pd.to_numeric(c['Alim_v_Nourriture'])\n",
    "#affichage des 3 produits via liste\n",
    "print(c.nlargest(3, 'Alim_v_Nourriture')['Produit_Z_ssal_200'].tolist())\n",
    "#affichage des 3 produits via df\n",
    "c_top3_ratio2 = c.nlargest(3, 'Alim_v_Nourriture')\n",
    "c_top3_ratio2"
   ]
  },
  {
   "cell_type": "markdown",
   "metadata": {},
   "source": [
    "### Question 13 : Combien de tonnes de céréales pourraient être libérées si les USA diminuaient leur production de produits animaux de 10% ?"
   ]
  },
  {
   "cell_type": "code",
   "execution_count": 45,
   "metadata": {
    "ExecuteTime": {
     "end_time": "2021-10-04T09:15:40.724587Z",
     "start_time": "2021-10-04T09:15:40.710371Z"
    }
   },
   "outputs": [
    {
     "name": "stdout",
     "output_type": "stream",
     "text": [
      "\u001b[6;31;40m-10pct production animale US : 15447 Milliers de tonnes\u001b[0m\n"
     ]
    }
   ],
   "source": [
    "#détermintaion de la production US pour les produits animaux from df3 animaux par pondération (10%)\n",
    "tot_prod = 1/10 * df3.loc[(df3['Code zone']==231) & (df3['Code Élément']==5511),['Valeur']].sum()\n",
    "print('\\x1b[6;31;40m' + \"-10pct production animale US : %.f\" %tot_prod + \" Milliers de tonnes\"+ '\\x1b[0m')"
   ]
  },
  {
   "cell_type": "markdown",
   "metadata": {},
   "source": [
    "### Question 14 : En Thaïlande, quelle proportion de manioc est exportée ? Quelle est la proportion de personnes en sous-nutrition?"
   ]
  },
  {
   "cell_type": "code",
   "execution_count": 46,
   "metadata": {
    "ExecuteTime": {
     "end_time": "2021-10-04T09:15:40.740545Z",
     "start_time": "2021-10-04T09:15:40.726583Z"
    }
   },
   "outputs": [
    {
     "name": "stdout",
     "output_type": "stream",
     "text": [
      "\u001b[6;31;40mexportations de manioc en Thaïlande : 25214 Milliers de tonnes\u001b[0m\n"
     ]
    }
   ],
   "source": [
    "#détermintaion des exportations de manioc en Thaïlande from df2 vegetaux\n",
    "thai_exp = df2.loc[(df2['Code zone']==216) & (df2['Code Produit']==2532) & (df2['Code Élément']==5911),['Valeur']].sum()\n",
    "print('\\x1b[6;31;40m' + \"exportations de manioc en Thaïlande : %.f\" %thai_exp + \" Milliers de tonnes\"+ '\\x1b[0m')"
   ]
  },
  {
   "cell_type": "code",
   "execution_count": 47,
   "metadata": {
    "ExecuteTime": {
     "end_time": "2021-10-04T09:15:40.756503Z",
     "start_time": "2021-10-04T09:15:40.743537Z"
    }
   },
   "outputs": [
    {
     "name": "stdout",
     "output_type": "stream",
     "text": [
      "\u001b[6;31;40mnb personnes en sous-nutrition en Thaïlande : 5.6 Millions\u001b[0m\n"
     ]
    }
   ],
   "source": [
    "#détermintaion de la proportion de personnes en sous-nutrition from df5 sous-alimentation\n",
    "prop_ssal = df5.loc[(df5['Code zone']==216) & (df5['Code année']==20122014),['Valeur']].sum()\n",
    "print('\\x1b[6;31;40m' + \"nb personnes en sous-nutrition en Thaïlande : %.1f\" %prop_ssal + \" Millions\"+ '\\x1b[0m')           "
   ]
  },
  {
   "cell_type": "markdown",
   "metadata": {
    "ExecuteTime": {
     "end_time": "2021-01-05T09:45:58.285720Z",
     "start_time": "2021-01-05T09:45:53.768800Z"
    }
   },
   "source": [
    "### Entrez vos données dans une base de données relationnelle (préparation & export des csv)"
   ]
  },
  {
   "cell_type": "markdown",
   "metadata": {},
   "source": [
    "##### Export table population"
   ]
  },
  {
   "cell_type": "code",
   "execution_count": 48,
   "metadata": {
    "ExecuteTime": {
     "end_time": "2021-10-04T09:15:40.788415Z",
     "start_time": "2021-10-04T09:15:40.761490Z"
    }
   },
   "outputs": [],
   "source": [
    "#on repart du dataset \"population\" (df1)\n",
    "#on conserve les colonnes suivantes\n",
    "df1=df1[['Zone','Code zone','Année','Valeur']]\n",
    "#on renomme les colonnes pour coller à l'énoncé\n",
    "df1.rename(columns={'Zone':'pays','Code zone':'code_pays','Année':'annee','Valeur':'population'}, inplace=True)\n",
    "#conversion unité population\n",
    "df1['population']=df1['population']*1000\n",
    "#export du csv\n",
    "df1.to_csv(\"OUTPUTS_FORMATION/P3_table1_population.csv\", index = False)"
   ]
  },
  {
   "cell_type": "markdown",
   "metadata": {
    "ExecuteTime": {
     "end_time": "2021-01-05T14:49:58.702789Z",
     "start_time": "2021-01-05T14:49:58.697802Z"
    }
   },
   "source": [
    "##### Export table dispo_alim"
   ]
  },
  {
   "cell_type": "code",
   "execution_count": 49,
   "metadata": {
    "ExecuteTime": {
     "end_time": "2021-10-04T09:15:48.488159Z",
     "start_time": "2021-10-04T09:15:40.790411Z"
    }
   },
   "outputs": [],
   "source": [
    "#on repart de la table issue de la Question 3 avec (table_q15 = table.copy())\n",
    "\n",
    "#listing des types produits (vegetaux vs animaux) et création colonne [origin]\n",
    "list_prod_v = df2['Code Produit'].unique()\n",
    "list_prod_a = df3['Code Produit'].unique()\n",
    "\n",
    "n = len(table_q15)\n",
    "for i, row in table_q15.iterrows():\n",
    "#on relève la valeur pour chaque ligne de [Produit]\n",
    "    cod_prod = table_q15.iloc[i,table_q15.columns.get_loc('Code Produit')]\n",
    "#si valeur contenue dans la liste des céréales pécédemment établie alors création [] contenant true or False\n",
    "    if   cod_prod in list_prod_v :\n",
    "        table_q15.loc[i,'origin'] = 'vegetal'\n",
    "    elif cod_prod in list_prod_a :\n",
    "        table_q15.loc[i,'origin'] = 'animal'\n",
    "\n",
    "#on conserve les colonnes suivantes\n",
    "table_q15=table_q15[['Zone','Code zone','Année','Produit','Code Produit','origin','Dispo_TOT_KG',\n",
    "                     'Disponibilité alimentaire (Kcal/personne/jour)','Disponibilité de protéines en quantité (g/personne/jour)',\n",
    "                     'Disponibilité de matière grasse en quantité (g/personne/jour)']]\n",
    "\n",
    "#on renomme les colonnes pour coller à l'énoncé\n",
    "table_q15.rename(columns={'Zone':'pays','Code zone':'code_pays','Année':'année','Produit':'produit',\n",
    "                          'Code Produit':'code_produit','Dispo_TOT_KG':'dispo_alim_tonnes',\n",
    "                      'Disponibilité alimentaire (Kcal/personne/jour)':'dispo_alim_kcal_p_j',\n",
    "                      'Disponibilité de protéines en quantité (g/personne/jour)':'dispo_prot',\n",
    "                      'Disponibilité de matière grasse en quantité (g/personne/jour)':'dispo_mat_gr'}, inplace=True) \n",
    "\n",
    "#conversion des kg en tonnes\n",
    "table_q15['dispo_alim_tonnes']=table_q15['dispo_alim_tonnes']*1e-3\n",
    "\n",
    "#export du csv\n",
    "table_q15.to_csv(\"OUTPUTS_FORMATION/P3_table2_dispo_alim.csv\", index = False)"
   ]
  },
  {
   "cell_type": "markdown",
   "metadata": {
    "ExecuteTime": {
     "end_time": "2021-01-05T13:23:04.463956Z",
     "start_time": "2021-01-05T13:23:04.453981Z"
    }
   },
   "source": [
    "##### Export table equilibre_prod"
   ]
  },
  {
   "cell_type": "code",
   "execution_count": 50,
   "metadata": {
    "ExecuteTime": {
     "end_time": "2021-10-04T09:15:48.566265Z",
     "start_time": "2021-10-04T09:15:48.488159Z"
    }
   },
   "outputs": [],
   "source": [
    "#on repart de la table issue de la Question 3 avec (table_q16 = table.copy())\n",
    "\n",
    "#on conserve les colonnes suivantes\n",
    "table_q16=table_q16[['Zone','Code zone','Année','Produit','Code Produit','Disponibilité intérieure',\n",
    "                     'Aliments pour animaux','Semences','Pertes','Traitement','Nourriture',\n",
    "                     'Autres utilisations (non alimentaire)']]\n",
    "\n",
    "#on renomme les colonnes pour coller à l'énoncé\n",
    "table_q16.rename(columns={'Zone':'pays','Code zone':'code_pays','Année':'année','Produit':'produit','Code Produit':'code_produit',\n",
    "                    'Disponibilité intérieure':'dispo_int',\n",
    "                    'Aliments pour animaux':'alim_ani',\n",
    "                    'Semences':'semences',\n",
    "                    'Pertes':'pertes',\n",
    "                    'Traitement':'transfo',\n",
    "                    'Nourriture':'nourriture',\n",
    "                    'Autres utilisations (non alimentaire)':'autres_utilisations'}, inplace=True) \n",
    "\n",
    "#export du csv\n",
    "table_q16.to_csv(\"OUTPUTS_FORMATION/P3_table3_equilibre_prod.csv\", index = False)"
   ]
  },
  {
   "cell_type": "markdown",
   "metadata": {
    "ExecuteTime": {
     "end_time": "2021-01-05T15:37:20.645351Z",
     "start_time": "2021-01-05T15:37:20.624403Z"
    }
   },
   "source": [
    "##### Export table sous_nutrition"
   ]
  },
  {
   "cell_type": "code",
   "execution_count": 51,
   "metadata": {
    "ExecuteTime": {
     "end_time": "2021-10-04T09:15:48.581893Z",
     "start_time": "2021-10-04T09:15:48.566265Z"
    }
   },
   "outputs": [],
   "source": [
    "#on repart du dataset \"sous-alimentation\" (df5)\n",
    "\n",
    "#formatage + filtre sur l'année qui nous intéresse ici 2013 \n",
    "df5['Valeur'] = df5['Valeur'].replace('<0.1' ,'0.1')\n",
    "df5['Valeur'] = pd.to_numeric(df5['Valeur'])\n",
    "df5_filter_year = df5.groupby(['Année']).get_group(('2012-2014'))\n",
    "\n",
    "#on conserve les colonnes suivantes\n",
    "df5_filter_year=df5_filter_year[['Zone','Code zone','Année','Valeur']]\n",
    "\n",
    "#conversion unité population sous-alimentée\n",
    "df5_filter_year['Valeur']=df5_filter_year['Valeur']*1e6\n",
    "\n",
    "#on renomme les colonnes pour coller à l'énoncé\n",
    "df5_filter_year.rename(columns={'Zone':'pays','Code zone':'code_pays','Année':'année','Valeur':'nb_personnes'}, inplace=True)\n",
    "\n",
    "#export du csv\n",
    "df5_filter_year.to_csv(\"OUTPUTS_FORMATION/P3_table4_sous_nutrition.csv\", index = False)"
   ]
  },
  {
   "cell_type": "code",
   "execution_count": 52,
   "metadata": {
    "ExecuteTime": {
     "end_time": "2021-10-04T09:15:48.597508Z",
     "start_time": "2021-10-04T09:15:48.581893Z"
    }
   },
   "outputs": [],
   "source": [
    "# table.to_csv(\"OUTPUTS_FORMATION/P3_post_treatment.csv\", index = False)"
   ]
  }
 ],
 "metadata": {
  "colab": {
   "collapsed_sections": [],
   "name": "Untitled4.ipynb",
   "provenance": []
  },
  "hide_input": false,
  "kernelspec": {
   "display_name": "Python 3 (ipykernel)",
   "language": "python",
   "name": "python3"
  },
  "language_info": {
   "codemirror_mode": {
    "name": "ipython",
    "version": 3
   },
   "file_extension": ".py",
   "mimetype": "text/x-python",
   "name": "python",
   "nbconvert_exporter": "python",
   "pygments_lexer": "ipython3",
   "version": "3.8.3"
  },
  "toc": {
   "base_numbering": 1,
   "nav_menu": {},
   "number_sections": true,
   "sideBar": true,
   "skip_h1_title": false,
   "title_cell": "Table of Contents",
   "title_sidebar": "Contents",
   "toc_cell": false,
   "toc_position": {},
   "toc_section_display": true,
   "toc_window_display": false
  }
 },
 "nbformat": 4,
 "nbformat_minor": 1
}
